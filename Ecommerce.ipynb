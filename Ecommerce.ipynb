{
 "cells": [
  {
   "cell_type": "code",
   "execution_count": 1,
   "metadata": {},
   "outputs": [],
   "source": [
    "%matplotlib inline\n",
    "import numpy as np\n",
    "import scipy\n",
    "import pandas as pd\n",
    "import matplotlib.pyplot as plt\n",
    "import statsmodels.formula.api as sm\n",
    "import seaborn as sns\n",
    "import sklearn as sl\n",
    "from sklearn import preprocessing\n",
    "pd.set_option('display.float_format', lambda x: '%.3f' % x)"
   ]
  },
  {
   "cell_type": "code",
   "execution_count": 3,
   "metadata": {},
   "outputs": [],
   "source": [
    "my_data = pd.read_csv('TVdata.txt')"
   ]
  },
  {
   "cell_type": "code",
   "execution_count": 4,
   "metadata": {},
   "outputs": [
    {
     "data": {
      "text/plain": [
       "<bound method DataFrame.info of       video_id  cvt_per_day  weighted_categorical_position  \\\n",
       "0       385504   307127.606                              1   \n",
       "1       300175   270338.426                              1   \n",
       "2       361899   256165.867                              1   \n",
       "3       308314   196622.721                              3   \n",
       "4       307201   159841.652                              1   \n",
       "5       389496   135076.610                              1   \n",
       "6       385507   134155.740                              1   \n",
       "7       380517   116906.008                              1   \n",
       "8       369857   116871.122                              2   \n",
       "9       393463   111565.597                              2   \n",
       "10      307719   103283.899                              3   \n",
       "11      302360    98665.990                              1   \n",
       "12      300842    94997.158                              3   \n",
       "13      326237    93536.514                              3   \n",
       "14      300243    91924.547                              2   \n",
       "15      304373    91909.062                              1   \n",
       "16      334155    90767.526                              3   \n",
       "17      385498    87951.007                              1   \n",
       "18      310134    86687.097                              3   \n",
       "19      369854    85322.707                              2   \n",
       "20      299578    84165.941                              2   \n",
       "21      289827    82710.229                              3   \n",
       "22      376073    81227.021                              2   \n",
       "23      313883    80567.839                              3   \n",
       "24      376177    78573.864                              2   \n",
       "25      300460    77369.995                              3   \n",
       "26      302266    75614.839                              3   \n",
       "27      332927    75590.957                              3   \n",
       "28      380522    74770.795                              2   \n",
       "29      394072    74153.414                              3   \n",
       "...        ...          ...                            ...   \n",
       "4196    274190       27.566                              8   \n",
       "4197    311853       27.555                              5   \n",
       "4198    365214       26.337                             33   \n",
       "4199    365224       26.106                             10   \n",
       "4200    367427       26.024                              4   \n",
       "4201    365216       25.603                             27   \n",
       "4202    367433       24.735                              4   \n",
       "4203    365229       24.556                             30   \n",
       "4204     43543       23.838                              3   \n",
       "4205    365188       23.774                             32   \n",
       "4206     12362       23.198                             12   \n",
       "4207    333056       21.859                             27   \n",
       "4208    365173       21.037                             29   \n",
       "4209    333049       20.643                             27   \n",
       "4210    365243       20.414                             25   \n",
       "4211    365204       19.738                             33   \n",
       "4212    365212       18.587                             29   \n",
       "4213    312410       18.113                              2   \n",
       "4214    365242       17.904                             14   \n",
       "4215    331828       17.235                              4   \n",
       "4216    333057       15.814                             23   \n",
       "4217     23247       15.270                             30   \n",
       "4218     43544       12.171                              2   \n",
       "4219    333047       10.613                             27   \n",
       "4220    367436       10.066                              4   \n",
       "4221    160848        9.726                              3   \n",
       "4222    365178        7.913                             29   \n",
       "4223     11615        2.936                              3   \n",
       "4224     26365        2.867                              4   \n",
       "4225     11229        2.188                              7   \n",
       "\n",
       "      weighted_horizontal_poition  import_id  release_year  \\\n",
       "0                               3  lionsgate          2013   \n",
       "1                               3  lionsgate          2013   \n",
       "2                               3      other          2012   \n",
       "3                               4  lionsgate          2008   \n",
       "4                               3  lionsgate          2013   \n",
       "5                               5        mgm          2000   \n",
       "6                               6  lionsgate          2013   \n",
       "7                               7  lionsgate          2014   \n",
       "8                               9  lionsgate          2013   \n",
       "9                               7  lionsgate          2009   \n",
       "10                              5  lionsgate          2004   \n",
       "11                              4  lionsgate          2012   \n",
       "12                              9  lionsgate          2007   \n",
       "13                             10  lionsgate          2007   \n",
       "14                              4  lionsgate          2012   \n",
       "15                              4  lionsgate          2008   \n",
       "16                              6        mgm          2008   \n",
       "17                              5  lionsgate          2012   \n",
       "18                             10        mgm          1997   \n",
       "19                             11  lionsgate          2014   \n",
       "20                              8  lionsgate          2006   \n",
       "21                              9  lionsgate          2008   \n",
       "22                             11  lionsgate          2010   \n",
       "23                              8  lionsgate          2011   \n",
       "24                             12  lionsgate          2015   \n",
       "25                             10        mgm          1987   \n",
       "26                              5        mgm          2007   \n",
       "27                              8  lionsgate          2009   \n",
       "28                              6  lionsgate          2014   \n",
       "29                              8        mgm          2000   \n",
       "...                           ...        ...           ...   \n",
       "4196                           15      other          2010   \n",
       "4197                           28      other          1943   \n",
       "4198                           30      other          2013   \n",
       "4199                           34      other          2017   \n",
       "4200                           27      other          2013   \n",
       "4201                           36      other          2011   \n",
       "4202                           25      other          2016   \n",
       "4203                           27      other          2014   \n",
       "4204                           20      other          2008   \n",
       "4205                           28      other          2014   \n",
       "4206                           30      other          2004   \n",
       "4207                           25      other          2016   \n",
       "4208                           37      other          2012   \n",
       "4209                           27      other          2016   \n",
       "4210                           38      other          2010   \n",
       "4211                           32      other          2013   \n",
       "4212                           30      other          2013   \n",
       "4213                           10        mgm          1971   \n",
       "4214                           35      other          2016   \n",
       "4215                           15      other          2005   \n",
       "4216                           16      other          2016   \n",
       "4217                           37      other          1975   \n",
       "4218                           15      other          2005   \n",
       "4219                            9      other          2016   \n",
       "4220                           18      other          2016   \n",
       "4221                           32      other          2010   \n",
       "4222                           35      other          2013   \n",
       "4223                           27      other          2008   \n",
       "4224                           15      other          2003   \n",
       "4225                           35      other          2003   \n",
       "\n",
       "                                             genres  imdb_votes    budget  \\\n",
       "0                             Action,Thriller,Drama       69614  15000000   \n",
       "1                             Comedy,Crime,Thriller       46705  15000000   \n",
       "2                                       Crime,Drama      197596  26000000   \n",
       "3     Thriller,Drama,War,Documentary,Mystery,Action      356339  15000000   \n",
       "4                Crime,Thriller,Mystery,Documentary       46720  27220000   \n",
       "5                                            Comedy       13250  60000000   \n",
       "6                         Action,Adventure,Thriller       16188  11000000   \n",
       "7                                     Western,Drama       24321  16000000   \n",
       "8                            Thriller,Crime,Western      119679  45000000   \n",
       "9          Action,Adventure,Sci-Fi,Fantasy,Thriller           0         0   \n",
       "10                                      Crime,Drama      377227   6500000   \n",
       "11                          Action,Mystery,Thriller       21575  10400000   \n",
       "12              Crime,Horror,Mystery,Drama,Thriller       27189   8000000   \n",
       "13                        Sport,Kids & Family,Drama        5636   1500000   \n",
       "14                    Action,Thriller,Mystery,Drama       75053  23000000   \n",
       "15                                   Horror,Mystery       46128  12000000   \n",
       "16                   Animation,Comedy,Kids & Family       20095  25000000   \n",
       "17                                   Drama,Thriller       44223  12000000   \n",
       "18                                      Crime,Drama        8683  30000000   \n",
       "19                             Thriller,Drama,Crime       39129   4000000   \n",
       "20                          Horror,Mystery,Thriller       22862  14000000   \n",
       "21                                     Crime,Comedy       17615  22000000   \n",
       "22                           Action,Horror,Thriller      109896  20000000   \n",
       "23                             Comedy,Drama,Romance      280266   8000000   \n",
       "24                                           Action       40985  30000000   \n",
       "25                                   Comedy,Romance       39965   1500000   \n",
       "26                                   Romance,Comedy       13137   1500000   \n",
       "27                               Drama,Thriller,War       92303  26000000   \n",
       "28                                            Drama       34610   2000000   \n",
       "29                                         Thriller       47562  42000000   \n",
       "...                                             ...         ...       ...   \n",
       "4196                                 Comedy,Mystery         334         0   \n",
       "4197                             Comedy,Documentary         315         0   \n",
       "4198                                          Music           0         0   \n",
       "4199                                          Music           0         0   \n",
       "4200                                         Comedy         131         0   \n",
       "4201                                          Music           0         0   \n",
       "4202                                         Comedy           0         0   \n",
       "4203                                          Music           0         0   \n",
       "4204                                          Drama         262         0   \n",
       "4205                                          Music           0         0   \n",
       "4206                                          Music           0         0   \n",
       "4207                                          Drama           0         0   \n",
       "4208                                          Music           0         0   \n",
       "4209                                          Drama           0         0   \n",
       "4210                                          Music           0         0   \n",
       "4211                                          Music           0         0   \n",
       "4212                                          Music           0         0   \n",
       "4213                                         Comedy       29450   2000000   \n",
       "4214                                          Music           0         0   \n",
       "4215                 Kids & Family,Animation,Comedy         178         0   \n",
       "4216                                          Drama           0         0   \n",
       "4217                                    Documentary          49         0   \n",
       "4218                                          Drama         545   2000000   \n",
       "4219                                          Drama           0         0   \n",
       "4220                                         Comedy           0         0   \n",
       "4221                                   Comedy,Drama          14         0   \n",
       "4222                                          Music           0         0   \n",
       "4223                                         Comedy         505         0   \n",
       "4224                                    Documentary           5    100000   \n",
       "4225                                  Drama,Romance          80         0   \n",
       "\n",
       "      boxoffice  imdb_rating  duration_in_mins  metacritic_score  \\\n",
       "0      42930462        6.500           112.301                51   \n",
       "1       3301046        6.500            94.983                41   \n",
       "2      37397291        7.300           115.764                58   \n",
       "3      15700000        7.600           130.704                94   \n",
       "4       8551228        6.400           105.546                37   \n",
       "5      32095318        5.500            98.468                37   \n",
       "6       8551228        5.200            94.336                57   \n",
       "7       2428883        6.600           123.303                68   \n",
       "8      12026670        6.400           107.213                54   \n",
       "9             0        0.000            94.748                 0   \n",
       "10     54557348        7.800           112.444                69   \n",
       "11      8551228        5.700            97.500                57   \n",
       "12      3992339        5.900            97.617                37   \n",
       "13      8551228        5.800           108.905                55   \n",
       "14     18934858        5.800            92.846                67   \n",
       "15     31397498        5.400            96.583                36   \n",
       "16     19528188        6.000            86.568                40   \n",
       "17      7918283        6.600           107.496                73   \n",
       "18     23461013        6.200           130.409                50   \n",
       "19       371897        6.900           117.769                74   \n",
       "20     16298046        5.000            90.262                38   \n",
       "21     20668843        5.800           103.950                41   \n",
       "22     29975979        6.500            97.816                57   \n",
       "23     34963967        7.700           100.038                72   \n",
       "24      8551228        5.600            92.329                40   \n",
       "25      8551228        6.800           112.226                53   \n",
       "26      8551228        5.700            91.683                57   \n",
       "27     28501651        7.100           104.639                58   \n",
       "28     60755732        4.800           113.040                16   \n",
       "29     16252765        6.000           116.196                33   \n",
       "...         ...          ...               ...               ...   \n",
       "4196          0        1.800            73.733                 0   \n",
       "4197          0        4.600             5.534                 0   \n",
       "4198          0        0.000            19.496                 0   \n",
       "4199          0        0.000            18.485                 0   \n",
       "4200          0        6.500            19.631                 0   \n",
       "4201          0        0.000            21.217                 0   \n",
       "4202          0        0.000            17.488                 0   \n",
       "4203          0        0.000            12.355                 0   \n",
       "4204          0        6.100            83.800                 0   \n",
       "4205          0        0.000            12.361                 0   \n",
       "4206          0        0.000           109.505                 0   \n",
       "4207          0        0.000            21.280                 0   \n",
       "4208          0        0.000            10.985                 0   \n",
       "4209          0        0.000            16.012                 0   \n",
       "4210          0        0.000            12.567                 0   \n",
       "4211          0        0.000            11.955                 0   \n",
       "4212          0        0.000            13.246                 0   \n",
       "4213    8551228        7.100            81.987                67   \n",
       "4214          0        0.000            15.595                 0   \n",
       "4215          0        4.800            69.388                 0   \n",
       "4216          0        0.000             9.224                 0   \n",
       "4217          0        8.200            35.400                 0   \n",
       "4218          0        6.800            90.417                 0   \n",
       "4219          0        0.000             7.487                 0   \n",
       "4220          0        0.000             5.876                 0   \n",
       "4221          0        7.800             4.312                 0   \n",
       "4222          0        0.000             4.879                 0   \n",
       "4223          0        7.100           110.350                 0   \n",
       "4224          0        6.000            79.633                 0   \n",
       "4225          0        7.600            53.618                 0   \n",
       "\n",
       "            awards      mpaa  star_category  \n",
       "0      other award     PG-13          1.710  \n",
       "1         no award         R          3.250  \n",
       "2      other award         R          2.647  \n",
       "3            Oscar         R          1.667  \n",
       "4      other award         R          3.067  \n",
       "5         no award     PG-13          2.750  \n",
       "6      other award         R          2.740  \n",
       "7      other award         R          3.003  \n",
       "8      other award         R          1.822  \n",
       "9      other award         R          2.080  \n",
       "10           Oscar         R          2.363  \n",
       "11     other award         R          2.214  \n",
       "12     other award         R          1.325  \n",
       "13     other award        PG          1.521  \n",
       "14     other award         R          3.112  \n",
       "15     other award     PG-13          2.029  \n",
       "16     other award        PG          1.391  \n",
       "17    Golden Globe         R          2.250  \n",
       "18     other award         R          1.667  \n",
       "19     other award         R          1.921  \n",
       "20     other award     PG-13          1.825  \n",
       "21     other award     PG-13          2.625  \n",
       "22     other award         R          2.160  \n",
       "23    Golden Globe         R          3.000  \n",
       "24        no award         R          1.914  \n",
       "25     other award        PG          2.583  \n",
       "26        no award         R          2.500  \n",
       "27    Golden Globe         R          1.930  \n",
       "28        no award        PG          1.538  \n",
       "29     other award         R          2.175  \n",
       "...            ...       ...            ...  \n",
       "4196   other award     PG-13          0.000  \n",
       "4197      no award         G          0.000  \n",
       "4198      no award     PG-13          0.000  \n",
       "4199      no award     PG-13          0.000  \n",
       "4200      no award  NotRated          2.675  \n",
       "4201      no award     PG-13          0.000  \n",
       "4202      no award  NotRated          2.000  \n",
       "4203      no award     PG-13          0.000  \n",
       "4204   other award  NotRated          0.000  \n",
       "4205      no award     PG-13          0.000  \n",
       "4206      no award  NotRated          0.000  \n",
       "4207      no award        PG          0.000  \n",
       "4208      no award     PG-13          0.000  \n",
       "4209      no award        PG          0.000  \n",
       "4210      no award     PG-13          0.000  \n",
       "4211      no award     PG-13          0.000  \n",
       "4212      no award     PG-13          0.000  \n",
       "4213   other award     PG-13          1.667  \n",
       "4214      no award     PG-13          0.000  \n",
       "4215      no award  NotRated          0.000  \n",
       "4216      no award        PG          0.000  \n",
       "4217      no award  NotRated          0.000  \n",
       "4218   other award  NotRated          0.000  \n",
       "4219      no award        PG          0.000  \n",
       "4220      no award  NotRated          2.300  \n",
       "4221      no award  NotRated          1.700  \n",
       "4222      no award     PG-13          0.000  \n",
       "4223   other award  NotRated          0.000  \n",
       "4224      no award  NotRated          0.000  \n",
       "4225      no award  NotRated          1.750  \n",
       "\n",
       "[4226 rows x 16 columns]>"
      ]
     },
     "execution_count": 4,
     "metadata": {},
     "output_type": "execute_result"
    }
   ],
   "source": [
    "my_data.info"
   ]
  },
  {
   "cell_type": "code",
   "execution_count": 5,
   "metadata": {},
   "outputs": [
    {
     "data": {
      "text/html": [
       "<div>\n",
       "<style scoped>\n",
       "    .dataframe tbody tr th:only-of-type {\n",
       "        vertical-align: middle;\n",
       "    }\n",
       "\n",
       "    .dataframe tbody tr th {\n",
       "        vertical-align: top;\n",
       "    }\n",
       "\n",
       "    .dataframe thead th {\n",
       "        text-align: right;\n",
       "    }\n",
       "</style>\n",
       "<table border=\"1\" class=\"dataframe\">\n",
       "  <thead>\n",
       "    <tr style=\"text-align: right;\">\n",
       "      <th></th>\n",
       "      <th>video_id</th>\n",
       "      <th>cvt_per_day</th>\n",
       "      <th>weighted_categorical_position</th>\n",
       "      <th>weighted_horizontal_poition</th>\n",
       "      <th>import_id</th>\n",
       "      <th>release_year</th>\n",
       "      <th>genres</th>\n",
       "      <th>imdb_votes</th>\n",
       "      <th>budget</th>\n",
       "      <th>boxoffice</th>\n",
       "      <th>imdb_rating</th>\n",
       "      <th>duration_in_mins</th>\n",
       "      <th>metacritic_score</th>\n",
       "      <th>awards</th>\n",
       "      <th>mpaa</th>\n",
       "      <th>star_category</th>\n",
       "    </tr>\n",
       "  </thead>\n",
       "  <tbody>\n",
       "    <tr>\n",
       "      <th>0</th>\n",
       "      <td>385504</td>\n",
       "      <td>307127.606</td>\n",
       "      <td>1</td>\n",
       "      <td>3</td>\n",
       "      <td>lionsgate</td>\n",
       "      <td>2013</td>\n",
       "      <td>Action,Thriller,Drama</td>\n",
       "      <td>69614</td>\n",
       "      <td>15000000</td>\n",
       "      <td>42930462</td>\n",
       "      <td>6.500</td>\n",
       "      <td>112.301</td>\n",
       "      <td>51</td>\n",
       "      <td>other award</td>\n",
       "      <td>PG-13</td>\n",
       "      <td>1.710</td>\n",
       "    </tr>\n",
       "    <tr>\n",
       "      <th>1</th>\n",
       "      <td>300175</td>\n",
       "      <td>270338.426</td>\n",
       "      <td>1</td>\n",
       "      <td>3</td>\n",
       "      <td>lionsgate</td>\n",
       "      <td>2013</td>\n",
       "      <td>Comedy,Crime,Thriller</td>\n",
       "      <td>46705</td>\n",
       "      <td>15000000</td>\n",
       "      <td>3301046</td>\n",
       "      <td>6.500</td>\n",
       "      <td>94.983</td>\n",
       "      <td>41</td>\n",
       "      <td>no award</td>\n",
       "      <td>R</td>\n",
       "      <td>3.250</td>\n",
       "    </tr>\n",
       "    <tr>\n",
       "      <th>2</th>\n",
       "      <td>361899</td>\n",
       "      <td>256165.867</td>\n",
       "      <td>1</td>\n",
       "      <td>3</td>\n",
       "      <td>other</td>\n",
       "      <td>2012</td>\n",
       "      <td>Crime,Drama</td>\n",
       "      <td>197596</td>\n",
       "      <td>26000000</td>\n",
       "      <td>37397291</td>\n",
       "      <td>7.300</td>\n",
       "      <td>115.764</td>\n",
       "      <td>58</td>\n",
       "      <td>other award</td>\n",
       "      <td>R</td>\n",
       "      <td>2.647</td>\n",
       "    </tr>\n",
       "  </tbody>\n",
       "</table>\n",
       "</div>"
      ],
      "text/plain": [
       "   video_id  cvt_per_day  weighted_categorical_position  \\\n",
       "0    385504   307127.606                              1   \n",
       "1    300175   270338.426                              1   \n",
       "2    361899   256165.867                              1   \n",
       "\n",
       "   weighted_horizontal_poition  import_id  release_year  \\\n",
       "0                            3  lionsgate          2013   \n",
       "1                            3  lionsgate          2013   \n",
       "2                            3      other          2012   \n",
       "\n",
       "                  genres  imdb_votes    budget  boxoffice  imdb_rating  \\\n",
       "0  Action,Thriller,Drama       69614  15000000   42930462        6.500   \n",
       "1  Comedy,Crime,Thriller       46705  15000000    3301046        6.500   \n",
       "2            Crime,Drama      197596  26000000   37397291        7.300   \n",
       "\n",
       "   duration_in_mins  metacritic_score       awards   mpaa  star_category  \n",
       "0           112.301                51  other award  PG-13          1.710  \n",
       "1            94.983                41     no award      R          3.250  \n",
       "2           115.764                58  other award      R          2.647  "
      ]
     },
     "execution_count": 5,
     "metadata": {},
     "output_type": "execute_result"
    }
   ],
   "source": [
    "my_data.head(3)"
   ]
  },
  {
   "cell_type": "code",
   "execution_count": 6,
   "metadata": {},
   "outputs": [
    {
     "name": "stdout",
     "output_type": "stream",
     "text": [
      "<class 'pandas.core.frame.DataFrame'>\n",
      "RangeIndex: 4226 entries, 0 to 4225\n",
      "Data columns (total 16 columns):\n",
      "video_id                         4226 non-null int64\n",
      "cvt_per_day                      4226 non-null float64\n",
      "weighted_categorical_position    4226 non-null int64\n",
      "weighted_horizontal_poition      4226 non-null int64\n",
      "import_id                        4226 non-null object\n",
      "release_year                     4226 non-null int64\n",
      "genres                           4226 non-null object\n",
      "imdb_votes                       4226 non-null int64\n",
      "budget                           4226 non-null int64\n",
      "boxoffice                        4226 non-null int64\n",
      "imdb_rating                      4226 non-null float64\n",
      "duration_in_mins                 4226 non-null float64\n",
      "metacritic_score                 4226 non-null int64\n",
      "awards                           4226 non-null object\n",
      "mpaa                             4226 non-null object\n",
      "star_category                    4226 non-null float64\n",
      "dtypes: float64(4), int64(8), object(4)\n",
      "memory usage: 528.3+ KB\n"
     ]
    }
   ],
   "source": [
    "my_data.info()"
   ]
  },
  {
   "cell_type": "code",
   "execution_count": 7,
   "metadata": {},
   "outputs": [
    {
     "data": {
      "text/html": [
       "<div>\n",
       "<style scoped>\n",
       "    .dataframe tbody tr th:only-of-type {\n",
       "        vertical-align: middle;\n",
       "    }\n",
       "\n",
       "    .dataframe tbody tr th {\n",
       "        vertical-align: top;\n",
       "    }\n",
       "\n",
       "    .dataframe thead th {\n",
       "        text-align: right;\n",
       "    }\n",
       "</style>\n",
       "<table border=\"1\" class=\"dataframe\">\n",
       "  <thead>\n",
       "    <tr style=\"text-align: right;\">\n",
       "      <th></th>\n",
       "      <th>video_id</th>\n",
       "      <th>cvt_per_day</th>\n",
       "      <th>weighted_categorical_position</th>\n",
       "      <th>weighted_horizontal_poition</th>\n",
       "      <th>release_year</th>\n",
       "      <th>imdb_votes</th>\n",
       "      <th>budget</th>\n",
       "      <th>boxoffice</th>\n",
       "      <th>imdb_rating</th>\n",
       "      <th>duration_in_mins</th>\n",
       "      <th>metacritic_score</th>\n",
       "      <th>star_category</th>\n",
       "    </tr>\n",
       "  </thead>\n",
       "  <tbody>\n",
       "    <tr>\n",
       "      <th>count</th>\n",
       "      <td>4226.000</td>\n",
       "      <td>4226.000</td>\n",
       "      <td>4226.000</td>\n",
       "      <td>4226.000</td>\n",
       "      <td>4226.000</td>\n",
       "      <td>4226.000</td>\n",
       "      <td>4226.000</td>\n",
       "      <td>4226.000</td>\n",
       "      <td>4226.000</td>\n",
       "      <td>4226.000</td>\n",
       "      <td>4226.000</td>\n",
       "      <td>4226.000</td>\n",
       "    </tr>\n",
       "    <tr>\n",
       "      <th>mean</th>\n",
       "      <td>280371.163</td>\n",
       "      <td>4218.630</td>\n",
       "      <td>7.783</td>\n",
       "      <td>28.104</td>\n",
       "      <td>2001.057</td>\n",
       "      <td>6462.924</td>\n",
       "      <td>2150743.439</td>\n",
       "      <td>2536338.472</td>\n",
       "      <td>5.257</td>\n",
       "      <td>89.556</td>\n",
       "      <td>15.974</td>\n",
       "      <td>0.955</td>\n",
       "    </tr>\n",
       "    <tr>\n",
       "      <th>std</th>\n",
       "      <td>112640.128</td>\n",
       "      <td>13036.080</td>\n",
       "      <td>6.134</td>\n",
       "      <td>11.864</td>\n",
       "      <td>17.497</td>\n",
       "      <td>31596.007</td>\n",
       "      <td>7176604.483</td>\n",
       "      <td>8243516.266</td>\n",
       "      <td>2.123</td>\n",
       "      <td>21.086</td>\n",
       "      <td>26.205</td>\n",
       "      <td>0.955</td>\n",
       "    </tr>\n",
       "    <tr>\n",
       "      <th>min</th>\n",
       "      <td>7909.000</td>\n",
       "      <td>2.188</td>\n",
       "      <td>1.000</td>\n",
       "      <td>1.000</td>\n",
       "      <td>1916.000</td>\n",
       "      <td>0.000</td>\n",
       "      <td>0.000</td>\n",
       "      <td>0.000</td>\n",
       "      <td>0.000</td>\n",
       "      <td>4.037</td>\n",
       "      <td>0.000</td>\n",
       "      <td>0.000</td>\n",
       "    </tr>\n",
       "    <tr>\n",
       "      <th>25%</th>\n",
       "      <td>285104.250</td>\n",
       "      <td>351.169</td>\n",
       "      <td>4.000</td>\n",
       "      <td>20.000</td>\n",
       "      <td>1998.000</td>\n",
       "      <td>81.000</td>\n",
       "      <td>0.000</td>\n",
       "      <td>0.000</td>\n",
       "      <td>4.300</td>\n",
       "      <td>82.602</td>\n",
       "      <td>0.000</td>\n",
       "      <td>0.000</td>\n",
       "    </tr>\n",
       "    <tr>\n",
       "      <th>50%</th>\n",
       "      <td>313891.500</td>\n",
       "      <td>1193.500</td>\n",
       "      <td>6.000</td>\n",
       "      <td>28.000</td>\n",
       "      <td>2008.000</td>\n",
       "      <td>535.000</td>\n",
       "      <td>0.000</td>\n",
       "      <td>0.000</td>\n",
       "      <td>5.800</td>\n",
       "      <td>90.730</td>\n",
       "      <td>0.000</td>\n",
       "      <td>1.000</td>\n",
       "    </tr>\n",
       "    <tr>\n",
       "      <th>75%</th>\n",
       "      <td>349345.750</td>\n",
       "      <td>3356.789</td>\n",
       "      <td>9.000</td>\n",
       "      <td>36.000</td>\n",
       "      <td>2012.000</td>\n",
       "      <td>3053.000</td>\n",
       "      <td>1500000.000</td>\n",
       "      <td>0.000</td>\n",
       "      <td>6.800</td>\n",
       "      <td>99.500</td>\n",
       "      <td>41.000</td>\n",
       "      <td>1.667</td>\n",
       "    </tr>\n",
       "    <tr>\n",
       "      <th>max</th>\n",
       "      <td>394880.000</td>\n",
       "      <td>307127.606</td>\n",
       "      <td>41.000</td>\n",
       "      <td>70.000</td>\n",
       "      <td>2017.000</td>\n",
       "      <td>948630.000</td>\n",
       "      <td>107000000.000</td>\n",
       "      <td>184208848.000</td>\n",
       "      <td>10.000</td>\n",
       "      <td>246.017</td>\n",
       "      <td>100.000</td>\n",
       "      <td>4.000</td>\n",
       "    </tr>\n",
       "  </tbody>\n",
       "</table>\n",
       "</div>"
      ],
      "text/plain": [
       "        video_id  cvt_per_day  weighted_categorical_position  \\\n",
       "count   4226.000     4226.000                       4226.000   \n",
       "mean  280371.163     4218.630                          7.783   \n",
       "std   112640.128    13036.080                          6.134   \n",
       "min     7909.000        2.188                          1.000   \n",
       "25%   285104.250      351.169                          4.000   \n",
       "50%   313891.500     1193.500                          6.000   \n",
       "75%   349345.750     3356.789                          9.000   \n",
       "max   394880.000   307127.606                         41.000   \n",
       "\n",
       "       weighted_horizontal_poition  release_year  imdb_votes        budget  \\\n",
       "count                     4226.000      4226.000    4226.000      4226.000   \n",
       "mean                        28.104      2001.057    6462.924   2150743.439   \n",
       "std                         11.864        17.497   31596.007   7176604.483   \n",
       "min                          1.000      1916.000       0.000         0.000   \n",
       "25%                         20.000      1998.000      81.000         0.000   \n",
       "50%                         28.000      2008.000     535.000         0.000   \n",
       "75%                         36.000      2012.000    3053.000   1500000.000   \n",
       "max                         70.000      2017.000  948630.000 107000000.000   \n",
       "\n",
       "          boxoffice  imdb_rating  duration_in_mins  metacritic_score  \\\n",
       "count      4226.000     4226.000          4226.000          4226.000   \n",
       "mean    2536338.472        5.257            89.556            15.974   \n",
       "std     8243516.266        2.123            21.086            26.205   \n",
       "min           0.000        0.000             4.037             0.000   \n",
       "25%           0.000        4.300            82.602             0.000   \n",
       "50%           0.000        5.800            90.730             0.000   \n",
       "75%           0.000        6.800            99.500            41.000   \n",
       "max   184208848.000       10.000           246.017           100.000   \n",
       "\n",
       "       star_category  \n",
       "count       4226.000  \n",
       "mean           0.955  \n",
       "std            0.955  \n",
       "min            0.000  \n",
       "25%            0.000  \n",
       "50%            1.000  \n",
       "75%            1.667  \n",
       "max            4.000  "
      ]
     },
     "execution_count": 7,
     "metadata": {},
     "output_type": "execute_result"
    }
   ],
   "source": [
    "my_data.describe()"
   ]
  },
  {
   "cell_type": "code",
   "execution_count": 8,
   "metadata": {},
   "outputs": [
    {
     "data": {
      "text/plain": [
       "<matplotlib.axes._subplots.AxesSubplot at 0x10f901940>"
      ]
     },
     "execution_count": 8,
     "metadata": {},
     "output_type": "execute_result"
    },
    {
     "data": {
      "image/png": "[encoded data removed]",
      "text/plain": [
       "<Figure size 432x288 with 2 Axes>"
      ]
     },
     "metadata": {
      "needs_background": "light"
     },
     "output_type": "display_data"
    }
   ],
   "source": [
    "sns.heatmap(my_data.isnull(),cmap = 'YlGnBu')"
   ]
  },
  {
   "cell_type": "code",
   "execution_count": 10,
   "metadata": {},
   "outputs": [
    {
     "data": {
      "text/plain": [
       "(4226, 16)"
      ]
     },
     "execution_count": 10,
     "metadata": {},
     "output_type": "execute_result"
    }
   ],
   "source": [
    "tv_data_df = my_data\n",
    "tv_data_df.shape"
   ]
  },
  {
   "cell_type": "code",
   "execution_count": 11,
   "metadata": {},
   "outputs": [
    {
     "name": "stdout",
     "output_type": "stream",
     "text": [
      "Num of rows: 4226\n",
      "Num of columns: 16\n"
     ]
    }
   ],
   "source": [
    "print (\"Num of rows: \" + str(tv_data_df.shape[0])) # row count\n",
    "print (\"Num of columns: \" + str(tv_data_df.shape[1])) # col count"
   ]
  },
  {
   "cell_type": "code",
   "execution_count": 13,
   "metadata": {},
   "outputs": [
    {
     "name": "stdout",
     "output_type": "stream",
     "text": [
      "0\n"
     ]
    },
    {
     "name": "stderr",
     "output_type": "stream",
     "text": [
      "/Users/christie/jupyterNotebook/anaconda3/lib/python3.7/site-packages/ipykernel_launcher.py:1: FutureWarning: 'get_duplicates' is deprecated and will be removed in a future release. You can use idx[idx.duplicated()].unique() instead\n",
      "  \"\"\"Entry point for launching an IPython kernel.\n"
     ]
    }
   ],
   "source": [
    "print(len(tv_data_df.set_index('video_id').index.get_duplicates()))"
   ]
  },
  {
   "cell_type": "code",
   "execution_count": 12,
   "metadata": {},
   "outputs": [
    {
     "name": "stdout",
     "output_type": "stream",
     "text": [
      "There is no duplicated entry (video_id based).\n"
     ]
    },
    {
     "name": "stderr",
     "output_type": "stream",
     "text": [
      "/Users/christie/jupyterNotebook/anaconda3/lib/python3.7/site-packages/ipykernel_launcher.py:2: FutureWarning: 'get_duplicates' is deprecated and will be removed in a future release. You can use idx[idx.duplicated()].unique() instead\n",
      "  \n"
     ]
    }
   ],
   "source": [
    "# check duplicated entry\n",
    "if len(tv_data_df.set_index('video_id').index.get_duplicates()) == 0:\n",
    "    print('There is no duplicated entry (video_id based).')"
   ]
  },
  {
   "cell_type": "code",
   "execution_count": 15,
   "metadata": {},
   "outputs": [
    {
     "data": {
      "text/html": [
       "<div>\n",
       "<style scoped>\n",
       "    .dataframe tbody tr th:only-of-type {\n",
       "        vertical-align: middle;\n",
       "    }\n",
       "\n",
       "    .dataframe tbody tr th {\n",
       "        vertical-align: top;\n",
       "    }\n",
       "\n",
       "    .dataframe thead th {\n",
       "        text-align: right;\n",
       "    }\n",
       "</style>\n",
       "<table border=\"1\" class=\"dataframe\">\n",
       "  <thead>\n",
       "    <tr style=\"text-align: right;\">\n",
       "      <th></th>\n",
       "      <th>cvt_per_day</th>\n",
       "      <th>weighted_categorical_position</th>\n",
       "      <th>weighted_horizontal_poition</th>\n",
       "      <th>imdb_votes</th>\n",
       "      <th>budget</th>\n",
       "      <th>boxoffice</th>\n",
       "      <th>imdb_rating</th>\n",
       "      <th>duration_in_mins</th>\n",
       "      <th>metacritic_score</th>\n",
       "      <th>star_category</th>\n",
       "    </tr>\n",
       "  </thead>\n",
       "  <tbody>\n",
       "    <tr>\n",
       "      <th>count</th>\n",
       "      <td>4226.000</td>\n",
       "      <td>4226.000</td>\n",
       "      <td>4226.000</td>\n",
       "      <td>4226.000</td>\n",
       "      <td>4226.000</td>\n",
       "      <td>4226.000</td>\n",
       "      <td>4226.000</td>\n",
       "      <td>4226.000</td>\n",
       "      <td>4226.000</td>\n",
       "      <td>4226.000</td>\n",
       "    </tr>\n",
       "    <tr>\n",
       "      <th>mean</th>\n",
       "      <td>4218.630</td>\n",
       "      <td>7.783</td>\n",
       "      <td>28.104</td>\n",
       "      <td>6462.924</td>\n",
       "      <td>2150743.439</td>\n",
       "      <td>2536338.472</td>\n",
       "      <td>5.257</td>\n",
       "      <td>89.556</td>\n",
       "      <td>15.974</td>\n",
       "      <td>0.955</td>\n",
       "    </tr>\n",
       "    <tr>\n",
       "      <th>std</th>\n",
       "      <td>13036.080</td>\n",
       "      <td>6.134</td>\n",
       "      <td>11.864</td>\n",
       "      <td>31596.007</td>\n",
       "      <td>7176604.483</td>\n",
       "      <td>8243516.266</td>\n",
       "      <td>2.123</td>\n",
       "      <td>21.086</td>\n",
       "      <td>26.205</td>\n",
       "      <td>0.955</td>\n",
       "    </tr>\n",
       "    <tr>\n",
       "      <th>min</th>\n",
       "      <td>2.188</td>\n",
       "      <td>1.000</td>\n",
       "      <td>1.000</td>\n",
       "      <td>0.000</td>\n",
       "      <td>0.000</td>\n",
       "      <td>0.000</td>\n",
       "      <td>0.000</td>\n",
       "      <td>4.037</td>\n",
       "      <td>0.000</td>\n",
       "      <td>0.000</td>\n",
       "    </tr>\n",
       "    <tr>\n",
       "      <th>10%</th>\n",
       "      <td>141.985</td>\n",
       "      <td>3.000</td>\n",
       "      <td>13.000</td>\n",
       "      <td>8.000</td>\n",
       "      <td>0.000</td>\n",
       "      <td>0.000</td>\n",
       "      <td>2.300</td>\n",
       "      <td>62.391</td>\n",
       "      <td>0.000</td>\n",
       "      <td>0.000</td>\n",
       "    </tr>\n",
       "    <tr>\n",
       "      <th>25%</th>\n",
       "      <td>351.169</td>\n",
       "      <td>4.000</td>\n",
       "      <td>20.000</td>\n",
       "      <td>81.000</td>\n",
       "      <td>0.000</td>\n",
       "      <td>0.000</td>\n",
       "      <td>4.300</td>\n",
       "      <td>82.602</td>\n",
       "      <td>0.000</td>\n",
       "      <td>0.000</td>\n",
       "    </tr>\n",
       "    <tr>\n",
       "      <th>50%</th>\n",
       "      <td>1193.500</td>\n",
       "      <td>6.000</td>\n",
       "      <td>28.000</td>\n",
       "      <td>535.000</td>\n",
       "      <td>0.000</td>\n",
       "      <td>0.000</td>\n",
       "      <td>5.800</td>\n",
       "      <td>90.730</td>\n",
       "      <td>0.000</td>\n",
       "      <td>1.000</td>\n",
       "    </tr>\n",
       "    <tr>\n",
       "      <th>75%</th>\n",
       "      <td>3356.789</td>\n",
       "      <td>9.000</td>\n",
       "      <td>36.000</td>\n",
       "      <td>3053.000</td>\n",
       "      <td>1500000.000</td>\n",
       "      <td>0.000</td>\n",
       "      <td>6.800</td>\n",
       "      <td>99.500</td>\n",
       "      <td>41.000</td>\n",
       "      <td>1.667</td>\n",
       "    </tr>\n",
       "    <tr>\n",
       "      <th>95%</th>\n",
       "      <td>14692.834</td>\n",
       "      <td>22.000</td>\n",
       "      <td>48.000</td>\n",
       "      <td>26199.500</td>\n",
       "      <td>12000000.000</td>\n",
       "      <td>8551228.000</td>\n",
       "      <td>7.800</td>\n",
       "      <td>119.131</td>\n",
       "      <td>65.000</td>\n",
       "      <td>2.597</td>\n",
       "    </tr>\n",
       "    <tr>\n",
       "      <th>max</th>\n",
       "      <td>307127.606</td>\n",
       "      <td>41.000</td>\n",
       "      <td>70.000</td>\n",
       "      <td>948630.000</td>\n",
       "      <td>107000000.000</td>\n",
       "      <td>184208848.000</td>\n",
       "      <td>10.000</td>\n",
       "      <td>246.017</td>\n",
       "      <td>100.000</td>\n",
       "      <td>4.000</td>\n",
       "    </tr>\n",
       "  </tbody>\n",
       "</table>\n",
       "</div>"
      ],
      "text/plain": [
       "       cvt_per_day  weighted_categorical_position  \\\n",
       "count     4226.000                       4226.000   \n",
       "mean      4218.630                          7.783   \n",
       "std      13036.080                          6.134   \n",
       "min          2.188                          1.000   \n",
       "10%        141.985                          3.000   \n",
       "25%        351.169                          4.000   \n",
       "50%       1193.500                          6.000   \n",
       "75%       3356.789                          9.000   \n",
       "95%      14692.834                         22.000   \n",
       "max     307127.606                         41.000   \n",
       "\n",
       "       weighted_horizontal_poition  imdb_votes        budget     boxoffice  \\\n",
       "count                     4226.000    4226.000      4226.000      4226.000   \n",
       "mean                        28.104    6462.924   2150743.439   2536338.472   \n",
       "std                         11.864   31596.007   7176604.483   8243516.266   \n",
       "min                          1.000       0.000         0.000         0.000   \n",
       "10%                         13.000       8.000         0.000         0.000   \n",
       "25%                         20.000      81.000         0.000         0.000   \n",
       "50%                         28.000     535.000         0.000         0.000   \n",
       "75%                         36.000    3053.000   1500000.000         0.000   \n",
       "95%                         48.000   26199.500  12000000.000   8551228.000   \n",
       "max                         70.000  948630.000 107000000.000 184208848.000   \n",
       "\n",
       "       imdb_rating  duration_in_mins  metacritic_score  star_category  \n",
       "count     4226.000          4226.000          4226.000       4226.000  \n",
       "mean         5.257            89.556            15.974          0.955  \n",
       "std          2.123            21.086            26.205          0.955  \n",
       "min          0.000             4.037             0.000          0.000  \n",
       "10%          2.300            62.391             0.000          0.000  \n",
       "25%          4.300            82.602             0.000          0.000  \n",
       "50%          5.800            90.730             0.000          1.000  \n",
       "75%          6.800            99.500            41.000          1.667  \n",
       "95%          7.800           119.131            65.000          2.597  \n",
       "max         10.000           246.017           100.000          4.000  "
      ]
     },
     "execution_count": 15,
     "metadata": {},
     "output_type": "execute_result"
    }
   ],
   "source": [
    "tv_data_df.drop(['video_id', 'release_year'],axis=1).describe(percentiles = [.1, .25, .5, .75, .95])"
   ]
  },
  {
   "cell_type": "code",
   "execution_count": 16,
   "metadata": {},
   "outputs": [
    {
     "name": "stdout",
     "output_type": "stream",
     "text": [
      "video_id                            0\n",
      "cvt_per_day                         0\n",
      "weighted_categorical_position       0\n",
      "weighted_horizontal_poition         0\n",
      "import_id                           0\n",
      "release_year                        0\n",
      "genres                              0\n",
      "imdb_votes                        344\n",
      "budget                           2454\n",
      "boxoffice                        3194\n",
      "imdb_rating                       344\n",
      "duration_in_mins                    0\n",
      "metacritic_score                 3012\n",
      "awards                              0\n",
      "mpaa                                0\n",
      "star_category                    1846\n",
      "dtype: int64\n"
     ]
    }
   ],
   "source": [
    "print((tv_data_df == 0).sum())"
   ]
  },
  {
   "cell_type": "code",
   "execution_count": 17,
   "metadata": {},
   "outputs": [
    {
     "name": "stdout",
     "output_type": "stream",
     "text": [
      "video_id                           int64\n",
      "cvt_per_day                      float64\n",
      "weighted_categorical_position      int64\n",
      "weighted_horizontal_poition        int64\n",
      "import_id                         object\n",
      "release_year                       int64\n",
      "genres                            object\n",
      "imdb_votes                         int64\n",
      "budget                             int64\n",
      "boxoffice                          int64\n",
      "imdb_rating                      float64\n",
      "duration_in_mins                 float64\n",
      "metacritic_score                   int64\n",
      "awards                            object\n",
      "mpaa                              object\n",
      "star_category                    float64\n",
      "dtype: object\n"
     ]
    }
   ],
   "source": [
    "print(tv_data_df.dtypes)"
   ]
  },
  {
   "cell_type": "code",
   "execution_count": 18,
   "metadata": {},
   "outputs": [],
   "source": [
    "sns.set_style('darkgrid')"
   ]
  },
  {
   "cell_type": "code",
   "execution_count": 26,
   "metadata": {},
   "outputs": [
    {
     "data": {
      "text/plain": [
       "<matplotlib.axes._subplots.AxesSubplot at 0x1a24ae4748>"
      ]
     },
     "execution_count": 26,
     "metadata": {},
     "output_type": "execute_result"
    },
    {
     "data": {
      "image/png": "[encoded data removed]",
      "text/plain": [
       "<Figure size 432x288 with 1 Axes>"
      ]
     },
     "metadata": {},
     "output_type": "display_data"
    }
   ],
   "source": [
    "sns.distplot(tv_data_df['cvt_per_day'],bins = range(0,15000, 100), color = 'red',kde = False)"
   ]
  },
  {
   "cell_type": "code",
   "execution_count": 27,
   "metadata": {},
   "outputs": [
    {
     "name": "stderr",
     "output_type": "stream",
     "text": [
      "/Users/christie/jupyterNotebook/anaconda3/lib/python3.7/site-packages/matplotlib/axes/_axes.py:6521: MatplotlibDeprecationWarning: \n",
      "The 'normed' kwarg was deprecated in Matplotlib 2.1 and will be removed in 3.1. Use 'density' instead.\n",
      "  alternative=\"'density'\", removal=\"3.1\")\n"
     ]
    },
    {
     "data": {
      "image/png": "[encoded data removed]",
      "text/plain": [
       "<Figure size 432x288 with 1 Axes>"
      ]
     },
     "metadata": {},
     "output_type": "display_data"
    }
   ],
   "source": [
    "# log scale of y due to large variation\n",
    "plt.hist(tv_data_df['cvt_per_day'].values, log = True, bins = range(0,15000, 30), alpha = 0.5, color='g', label = 'cvt_per_day_log_scale', normed = True)\n",
    "plt.legend(loc ='upper right')\n",
    "plt.title('Historgrams of cvt_per_day before data processing')\n",
    "plt.xlabel('cvt_per_day_log_scale')\n",
    "plt.ylabel('density')\n",
    "plt.show()"
   ]
  },
  {
   "cell_type": "code",
   "execution_count": 29,
   "metadata": {},
   "outputs": [
    {
     "data": {
      "text/plain": [
       "<matplotlib.axes._subplots.AxesSubplot at 0x1a2562f240>"
      ]
     },
     "execution_count": 29,
     "metadata": {},
     "output_type": "execute_result"
    },
    {
     "data": {
      "image/png": "[encoded data removed]",
      "text/plain": [
       "<Figure size 432x288 with 2 Axes>"
      ]
     },
     "metadata": {},
     "output_type": "display_data"
    }
   ],
   "source": [
    "sns.heatmap(tv_data_df.drop(['video_id'],axis=1).corr(),cmap=\"YlGnBu\")"
   ]
  },
  {
   "cell_type": "code",
   "execution_count": 30,
   "metadata": {},
   "outputs": [
    {
     "data": {
      "text/html": [
       "<div>\n",
       "<style scoped>\n",
       "    .dataframe tbody tr th:only-of-type {\n",
       "        vertical-align: middle;\n",
       "    }\n",
       "\n",
       "    .dataframe tbody tr th {\n",
       "        vertical-align: top;\n",
       "    }\n",
       "\n",
       "    .dataframe thead th {\n",
       "        text-align: right;\n",
       "    }\n",
       "</style>\n",
       "<table border=\"1\" class=\"dataframe\">\n",
       "  <thead>\n",
       "    <tr style=\"text-align: right;\">\n",
       "      <th></th>\n",
       "      <th>cvt_per_day</th>\n",
       "      <th>weighted_categorical_position</th>\n",
       "      <th>weighted_horizontal_poition</th>\n",
       "      <th>release_year</th>\n",
       "      <th>imdb_votes</th>\n",
       "      <th>budget</th>\n",
       "      <th>boxoffice</th>\n",
       "      <th>imdb_rating</th>\n",
       "      <th>duration_in_mins</th>\n",
       "      <th>metacritic_score</th>\n",
       "      <th>star_category</th>\n",
       "    </tr>\n",
       "  </thead>\n",
       "  <tbody>\n",
       "    <tr>\n",
       "      <th>cvt_per_day</th>\n",
       "      <td>1.000</td>\n",
       "      <td>-0.148</td>\n",
       "      <td>-0.302</td>\n",
       "      <td>0.046</td>\n",
       "      <td>0.298</td>\n",
       "      <td>0.316</td>\n",
       "      <td>0.312</td>\n",
       "      <td>0.059</td>\n",
       "      <td>0.152</td>\n",
       "      <td>0.249</td>\n",
       "      <td>0.247</td>\n",
       "    </tr>\n",
       "    <tr>\n",
       "      <th>weighted_categorical_position</th>\n",
       "      <td>-0.148</td>\n",
       "      <td>1.000</td>\n",
       "      <td>-0.084</td>\n",
       "      <td>-0.069</td>\n",
       "      <td>-0.064</td>\n",
       "      <td>-0.090</td>\n",
       "      <td>-0.074</td>\n",
       "      <td>-0.116</td>\n",
       "      <td>-0.174</td>\n",
       "      <td>-0.044</td>\n",
       "      <td>-0.123</td>\n",
       "    </tr>\n",
       "    <tr>\n",
       "      <th>weighted_horizontal_poition</th>\n",
       "      <td>-0.302</td>\n",
       "      <td>-0.084</td>\n",
       "      <td>1.000</td>\n",
       "      <td>0.027</td>\n",
       "      <td>-0.221</td>\n",
       "      <td>-0.211</td>\n",
       "      <td>-0.245</td>\n",
       "      <td>-0.162</td>\n",
       "      <td>-0.102</td>\n",
       "      <td>-0.255</td>\n",
       "      <td>-0.168</td>\n",
       "    </tr>\n",
       "    <tr>\n",
       "      <th>release_year</th>\n",
       "      <td>0.046</td>\n",
       "      <td>-0.069</td>\n",
       "      <td>0.027</td>\n",
       "      <td>1.000</td>\n",
       "      <td>-0.083</td>\n",
       "      <td>-0.040</td>\n",
       "      <td>-0.128</td>\n",
       "      <td>-0.199</td>\n",
       "      <td>-0.097</td>\n",
       "      <td>-0.167</td>\n",
       "      <td>-0.198</td>\n",
       "    </tr>\n",
       "    <tr>\n",
       "      <th>imdb_votes</th>\n",
       "      <td>0.298</td>\n",
       "      <td>-0.064</td>\n",
       "      <td>-0.221</td>\n",
       "      <td>-0.083</td>\n",
       "      <td>1.000</td>\n",
       "      <td>0.273</td>\n",
       "      <td>0.531</td>\n",
       "      <td>0.163</td>\n",
       "      <td>0.156</td>\n",
       "      <td>0.322</td>\n",
       "      <td>0.225</td>\n",
       "    </tr>\n",
       "    <tr>\n",
       "      <th>budget</th>\n",
       "      <td>0.316</td>\n",
       "      <td>-0.090</td>\n",
       "      <td>-0.211</td>\n",
       "      <td>-0.040</td>\n",
       "      <td>0.273</td>\n",
       "      <td>1.000</td>\n",
       "      <td>0.505</td>\n",
       "      <td>0.106</td>\n",
       "      <td>0.251</td>\n",
       "      <td>0.315</td>\n",
       "      <td>0.322</td>\n",
       "    </tr>\n",
       "    <tr>\n",
       "      <th>boxoffice</th>\n",
       "      <td>0.312</td>\n",
       "      <td>-0.074</td>\n",
       "      <td>-0.245</td>\n",
       "      <td>-0.128</td>\n",
       "      <td>0.531</td>\n",
       "      <td>0.505</td>\n",
       "      <td>1.000</td>\n",
       "      <td>0.164</td>\n",
       "      <td>0.226</td>\n",
       "      <td>0.465</td>\n",
       "      <td>0.322</td>\n",
       "    </tr>\n",
       "    <tr>\n",
       "      <th>imdb_rating</th>\n",
       "      <td>0.059</td>\n",
       "      <td>-0.116</td>\n",
       "      <td>-0.162</td>\n",
       "      <td>-0.199</td>\n",
       "      <td>0.163</td>\n",
       "      <td>0.106</td>\n",
       "      <td>0.164</td>\n",
       "      <td>1.000</td>\n",
       "      <td>0.344</td>\n",
       "      <td>0.347</td>\n",
       "      <td>0.192</td>\n",
       "    </tr>\n",
       "    <tr>\n",
       "      <th>duration_in_mins</th>\n",
       "      <td>0.152</td>\n",
       "      <td>-0.174</td>\n",
       "      <td>-0.102</td>\n",
       "      <td>-0.097</td>\n",
       "      <td>0.156</td>\n",
       "      <td>0.251</td>\n",
       "      <td>0.226</td>\n",
       "      <td>0.344</td>\n",
       "      <td>1.000</td>\n",
       "      <td>0.327</td>\n",
       "      <td>0.309</td>\n",
       "    </tr>\n",
       "    <tr>\n",
       "      <th>metacritic_score</th>\n",
       "      <td>0.249</td>\n",
       "      <td>-0.044</td>\n",
       "      <td>-0.255</td>\n",
       "      <td>-0.167</td>\n",
       "      <td>0.322</td>\n",
       "      <td>0.315</td>\n",
       "      <td>0.465</td>\n",
       "      <td>0.347</td>\n",
       "      <td>0.327</td>\n",
       "      <td>1.000</td>\n",
       "      <td>0.452</td>\n",
       "    </tr>\n",
       "    <tr>\n",
       "      <th>star_category</th>\n",
       "      <td>0.247</td>\n",
       "      <td>-0.123</td>\n",
       "      <td>-0.168</td>\n",
       "      <td>-0.198</td>\n",
       "      <td>0.225</td>\n",
       "      <td>0.322</td>\n",
       "      <td>0.322</td>\n",
       "      <td>0.192</td>\n",
       "      <td>0.309</td>\n",
       "      <td>0.452</td>\n",
       "      <td>1.000</td>\n",
       "    </tr>\n",
       "  </tbody>\n",
       "</table>\n",
       "</div>"
      ],
      "text/plain": [
       "                               cvt_per_day  weighted_categorical_position  \\\n",
       "cvt_per_day                          1.000                         -0.148   \n",
       "weighted_categorical_position       -0.148                          1.000   \n",
       "weighted_horizontal_poition         -0.302                         -0.084   \n",
       "release_year                         0.046                         -0.069   \n",
       "imdb_votes                           0.298                         -0.064   \n",
       "budget                               0.316                         -0.090   \n",
       "boxoffice                            0.312                         -0.074   \n",
       "imdb_rating                          0.059                         -0.116   \n",
       "duration_in_mins                     0.152                         -0.174   \n",
       "metacritic_score                     0.249                         -0.044   \n",
       "star_category                        0.247                         -0.123   \n",
       "\n",
       "                               weighted_horizontal_poition  release_year  \\\n",
       "cvt_per_day                                         -0.302         0.046   \n",
       "weighted_categorical_position                       -0.084        -0.069   \n",
       "weighted_horizontal_poition                          1.000         0.027   \n",
       "release_year                                         0.027         1.000   \n",
       "imdb_votes                                          -0.221        -0.083   \n",
       "budget                                              -0.211        -0.040   \n",
       "boxoffice                                           -0.245        -0.128   \n",
       "imdb_rating                                         -0.162        -0.199   \n",
       "duration_in_mins                                    -0.102        -0.097   \n",
       "metacritic_score                                    -0.255        -0.167   \n",
       "star_category                                       -0.168        -0.198   \n",
       "\n",
       "                               imdb_votes  budget  boxoffice  imdb_rating  \\\n",
       "cvt_per_day                         0.298   0.316      0.312        0.059   \n",
       "weighted_categorical_position      -0.064  -0.090     -0.074       -0.116   \n",
       "weighted_horizontal_poition        -0.221  -0.211     -0.245       -0.162   \n",
       "release_year                       -0.083  -0.040     -0.128       -0.199   \n",
       "imdb_votes                          1.000   0.273      0.531        0.163   \n",
       "budget                              0.273   1.000      0.505        0.106   \n",
       "boxoffice                           0.531   0.505      1.000        0.164   \n",
       "imdb_rating                         0.163   0.106      0.164        1.000   \n",
       "duration_in_mins                    0.156   0.251      0.226        0.344   \n",
       "metacritic_score                    0.322   0.315      0.465        0.347   \n",
       "star_category                       0.225   0.322      0.322        0.192   \n",
       "\n",
       "                               duration_in_mins  metacritic_score  \\\n",
       "cvt_per_day                               0.152             0.249   \n",
       "weighted_categorical_position            -0.174            -0.044   \n",
       "weighted_horizontal_poition              -0.102            -0.255   \n",
       "release_year                             -0.097            -0.167   \n",
       "imdb_votes                                0.156             0.322   \n",
       "budget                                    0.251             0.315   \n",
       "boxoffice                                 0.226             0.465   \n",
       "imdb_rating                               0.344             0.347   \n",
       "duration_in_mins                          1.000             0.327   \n",
       "metacritic_score                          0.327             1.000   \n",
       "star_category                             0.309             0.452   \n",
       "\n",
       "                               star_category  \n",
       "cvt_per_day                            0.247  \n",
       "weighted_categorical_position         -0.123  \n",
       "weighted_horizontal_poition           -0.168  \n",
       "release_year                          -0.198  \n",
       "imdb_votes                             0.225  \n",
       "budget                                 0.322  \n",
       "boxoffice                              0.322  \n",
       "imdb_rating                            0.192  \n",
       "duration_in_mins                       0.309  \n",
       "metacritic_score                       0.452  \n",
       "star_category                          1.000  "
      ]
     },
     "execution_count": 30,
     "metadata": {},
     "output_type": "execute_result"
    }
   ],
   "source": [
    "tv_data_df.drop(['video_id'],axis=1).corr()"
   ]
  },
  {
   "cell_type": "code",
   "execution_count": 31,
   "metadata": {},
   "outputs": [
    {
     "data": {
      "text/plain": [
       "<matplotlib.axes._subplots.AxesSubplot at 0x1a252e58d0>"
      ]
     },
     "execution_count": 31,
     "metadata": {},
     "output_type": "execute_result"
    },
    {
     "data": {
      "image/png": "[encoded data removed]",
      "text/plain": [
       "<Figure size 432x288 with 1 Axes>"
      ]
     },
     "metadata": {},
     "output_type": "display_data"
    }
   ],
   "source": [
    "sns.stripplot(x='import_id', y='cvt_per_day', data=tv_data_df, jitter=True)"
   ]
  },
  {
   "cell_type": "code",
   "execution_count": 32,
   "metadata": {},
   "outputs": [
    {
     "name": "stdout",
     "output_type": "stream",
     "text": [
      "other        2963\n",
      "lionsgate     677\n",
      "mgm           445\n",
      "paramount     141\n",
      "Name: import_id, dtype: int64\n"
     ]
    }
   ],
   "source": [
    "print(tv_data_df['import_id'].value_counts())"
   ]
  },
  {
   "cell_type": "code",
   "execution_count": 33,
   "metadata": {},
   "outputs": [
    {
     "data": {
      "text/plain": [
       "<matplotlib.axes._subplots.AxesSubplot at 0x1a24f3ad68>"
      ]
     },
     "execution_count": 33,
     "metadata": {},
     "output_type": "execute_result"
    },
    {
     "data": {
      "image/png": "[encoded data removed]",
      "text/plain": [
       "<Figure size 432x288 with 1 Axes>"
      ]
     },
     "metadata": {},
     "output_type": "display_data"
    }
   ],
   "source": [
    "sns.barplot(x='import_id', y='cvt_per_day', data=tv_data_df)"
   ]
  },
  {
   "cell_type": "code",
   "execution_count": 34,
   "metadata": {},
   "outputs": [
    {
     "data": {
      "text/plain": [
       "<matplotlib.axes._subplots.AxesSubplot at 0x1a253c1860>"
      ]
     },
     "execution_count": 34,
     "metadata": {},
     "output_type": "execute_result"
    },
    {
     "data": {
      "image/png": "[encoded data removed]",
      "text/plain": [
       "<Figure size 432x288 with 1 Axes>"
      ]
     },
     "metadata": {},
     "output_type": "display_data"
    }
   ],
   "source": [
    "sns.boxplot(x='import_id', y='cvt_per_day', data=tv_data_df)"
   ]
  },
  {
   "cell_type": "code",
   "execution_count": 35,
   "metadata": {},
   "outputs": [
    {
     "data": {
      "text/plain": [
       "<matplotlib.axes._subplots.AxesSubplot at 0x1a25651fd0>"
      ]
     },
     "execution_count": 35,
     "metadata": {},
     "output_type": "execute_result"
    },
    {
     "data": {
      "image/png": "[encoded data removed]",
      "text/plain": [
       "<Figure size 432x288 with 1 Axes>"
      ]
     },
     "metadata": {},
     "output_type": "display_data"
    }
   ],
   "source": [
    "sns.stripplot(x='mpaa', y='cvt_per_day', data=tv_data_df, jitter=True)"
   ]
  },
  {
   "cell_type": "code",
   "execution_count": 36,
   "metadata": {},
   "outputs": [
    {
     "data": {
      "text/plain": [
       "<matplotlib.axes._subplots.AxesSubplot at 0x1a252e5f28>"
      ]
     },
     "execution_count": 36,
     "metadata": {},
     "output_type": "execute_result"
    },
    {
     "data": {
      "image/png": "[encoded data removed]",
      "text/plain": [
       "<Figure size 432x288 with 1 Axes>"
      ]
     },
     "metadata": {},
     "output_type": "display_data"
    }
   ],
   "source": [
    "sns.barplot(x='mpaa', y='cvt_per_day', data=tv_data_df)"
   ]
  },
  {
   "cell_type": "code",
   "execution_count": 37,
   "metadata": {},
   "outputs": [
    {
     "name": "stdout",
     "output_type": "stream",
     "text": [
      "NotRated    2158\n",
      "R           1158\n",
      "PG-13        426\n",
      "PG           353\n",
      "G            125\n",
      "NC-17          6\n",
      "Name: mpaa, dtype: int64\n"
     ]
    }
   ],
   "source": [
    "print(tv_data_df['mpaa'].value_counts())"
   ]
  },
  {
   "cell_type": "code",
   "execution_count": null,
   "metadata": {},
   "outputs": [],
   "source": []
  }
 ],
 "metadata": {
  "kernelspec": {
   "display_name": "Python 3",
   "language": "python",
   "name": "python3"
  },
  "language_info": {
   "codemirror_mode": {
    "name": "ipython",
    "version": 3
   },
   "file_extension": ".py",
   "mimetype": "text/x-python",
   "name": "python",
   "nbconvert_exporter": "python",
   "pygments_lexer": "ipython3",
   "version": "3.7.1"
  }
 },
 "nbformat": 4,
 "nbformat_minor": 2
}
