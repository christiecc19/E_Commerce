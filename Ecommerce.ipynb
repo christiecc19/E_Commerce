{
 "cells": [
  {
   "cell_type": "code",
   "execution_count": 1,
   "metadata": {},
   "outputs": [],
   "source": [
    "%matplotlib inline\n",
    "import numpy as np\n",
    "import scipy\n",
    "import pandas as pd\n",
    "import matplotlib.pyplot as plt\n",
    "import statsmodels.formula.api as sm\n",
    "import seaborn as sns\n",
    "import sklearn as sl\n",
    "from sklearn import preprocessing\n",
    "import warnings\n",
    "warnings.filterwarnings('ignore')\n",
    "pd.set_option('display.float_format', lambda x: '%.3f' % x)"
   ]
  },
  {
   "cell_type": "markdown",
   "metadata": {},
   "source": [
    "# Part1: data Exploration"
   ]
  },
  {
   "cell_type": "raw",
   "metadata": {},
   "source": [
    "# Part 1.1: Understand the raw Dataset"
   ]
  },
  {
   "cell_type": "code",
   "execution_count": 2,
   "metadata": {},
   "outputs": [],
   "source": [
    "my_data = pd.read_csv('TVdata.txt')"
   ]
  },
  {
   "cell_type": "code",
   "execution_count": 3,
   "metadata": {},
   "outputs": [
    {
     "data": {
      "text/plain": [
       "<bound method DataFrame.info of       video_id  cvt_per_day  weighted_categorical_position  \\\n",
       "0       385504   307127.606                              1   \n",
       "1       300175   270338.426                              1   \n",
       "2       361899   256165.867                              1   \n",
       "3       308314   196622.721                              3   \n",
       "4       307201   159841.652                              1   \n",
       "5       389496   135076.610                              1   \n",
       "6       385507   134155.740                              1   \n",
       "7       380517   116906.008                              1   \n",
       "8       369857   116871.122                              2   \n",
       "9       393463   111565.597                              2   \n",
       "10      307719   103283.899                              3   \n",
       "11      302360    98665.990                              1   \n",
       "12      300842    94997.158                              3   \n",
       "13      326237    93536.514                              3   \n",
       "14      300243    91924.547                              2   \n",
       "15      304373    91909.062                              1   \n",
       "16      334155    90767.526                              3   \n",
       "17      385498    87951.007                              1   \n",
       "18      310134    86687.097                              3   \n",
       "19      369854    85322.707                              2   \n",
       "20      299578    84165.941                              2   \n",
       "21      289827    82710.229                              3   \n",
       "22      376073    81227.021                              2   \n",
       "23      313883    80567.839                              3   \n",
       "24      376177    78573.864                              2   \n",
       "25      300460    77369.995                              3   \n",
       "26      302266    75614.839                              3   \n",
       "27      332927    75590.957                              3   \n",
       "28      380522    74770.795                              2   \n",
       "29      394072    74153.414                              3   \n",
       "...        ...          ...                            ...   \n",
       "4196    274190       27.566                              8   \n",
       "4197    311853       27.555                              5   \n",
       "4198    365214       26.337                             33   \n",
       "4199    365224       26.106                             10   \n",
       "4200    367427       26.024                              4   \n",
       "4201    365216       25.603                             27   \n",
       "4202    367433       24.735                              4   \n",
       "4203    365229       24.556                             30   \n",
       "4204     43543       23.838                              3   \n",
       "4205    365188       23.774                             32   \n",
       "4206     12362       23.198                             12   \n",
       "4207    333056       21.859                             27   \n",
       "4208    365173       21.037                             29   \n",
       "4209    333049       20.643                             27   \n",
       "4210    365243       20.414                             25   \n",
       "4211    365204       19.738                             33   \n",
       "4212    365212       18.587                             29   \n",
       "4213    312410       18.113                              2   \n",
       "4214    365242       17.904                             14   \n",
       "4215    331828       17.235                              4   \n",
       "4216    333057       15.814                             23   \n",
       "4217     23247       15.270                             30   \n",
       "4218     43544       12.171                              2   \n",
       "4219    333047       10.613                             27   \n",
       "4220    367436       10.066                              4   \n",
       "4221    160848        9.726                              3   \n",
       "4222    365178        7.913                             29   \n",
       "4223     11615        2.936                              3   \n",
       "4224     26365        2.867                              4   \n",
       "4225     11229        2.188                              7   \n",
       "\n",
       "      weighted_horizontal_poition  import_id  release_year  \\\n",
       "0                               3  lionsgate          2013   \n",
       "1                               3  lionsgate          2013   \n",
       "2                               3      other          2012   \n",
       "3                               4  lionsgate          2008   \n",
       "4                               3  lionsgate          2013   \n",
       "5                               5        mgm          2000   \n",
       "6                               6  lionsgate          2013   \n",
       "7                               7  lionsgate          2014   \n",
       "8                               9  lionsgate          2013   \n",
       "9                               7  lionsgate          2009   \n",
       "10                              5  lionsgate          2004   \n",
       "11                              4  lionsgate          2012   \n",
       "12                              9  lionsgate          2007   \n",
       "13                             10  lionsgate          2007   \n",
       "14                              4  lionsgate          2012   \n",
       "15                              4  lionsgate          2008   \n",
       "16                              6        mgm          2008   \n",
       "17                              5  lionsgate          2012   \n",
       "18                             10        mgm          1997   \n",
       "19                             11  lionsgate          2014   \n",
       "20                              8  lionsgate          2006   \n",
       "21                              9  lionsgate          2008   \n",
       "22                             11  lionsgate          2010   \n",
       "23                              8  lionsgate          2011   \n",
       "24                             12  lionsgate          2015   \n",
       "25                             10        mgm          1987   \n",
       "26                              5        mgm          2007   \n",
       "27                              8  lionsgate          2009   \n",
       "28                              6  lionsgate          2014   \n",
       "29                              8        mgm          2000   \n",
       "...                           ...        ...           ...   \n",
       "4196                           15      other          2010   \n",
       "4197                           28      other          1943   \n",
       "4198                           30      other          2013   \n",
       "4199                           34      other          2017   \n",
       "4200                           27      other          2013   \n",
       "4201                           36      other          2011   \n",
       "4202                           25      other          2016   \n",
       "4203                           27      other          2014   \n",
       "4204                           20      other          2008   \n",
       "4205                           28      other          2014   \n",
       "4206                           30      other          2004   \n",
       "4207                           25      other          2016   \n",
       "4208                           37      other          2012   \n",
       "4209                           27      other          2016   \n",
       "4210                           38      other          2010   \n",
       "4211                           32      other          2013   \n",
       "4212                           30      other          2013   \n",
       "4213                           10        mgm          1971   \n",
       "4214                           35      other          2016   \n",
       "4215                           15      other          2005   \n",
       "4216                           16      other          2016   \n",
       "4217                           37      other          1975   \n",
       "4218                           15      other          2005   \n",
       "4219                            9      other          2016   \n",
       "4220                           18      other          2016   \n",
       "4221                           32      other          2010   \n",
       "4222                           35      other          2013   \n",
       "4223                           27      other          2008   \n",
       "4224                           15      other          2003   \n",
       "4225                           35      other          2003   \n",
       "\n",
       "                                             genres  imdb_votes    budget  \\\n",
       "0                             Action,Thriller,Drama       69614  15000000   \n",
       "1                             Comedy,Crime,Thriller       46705  15000000   \n",
       "2                                       Crime,Drama      197596  26000000   \n",
       "3     Thriller,Drama,War,Documentary,Mystery,Action      356339  15000000   \n",
       "4                Crime,Thriller,Mystery,Documentary       46720  27220000   \n",
       "5                                            Comedy       13250  60000000   \n",
       "6                         Action,Adventure,Thriller       16188  11000000   \n",
       "7                                     Western,Drama       24321  16000000   \n",
       "8                            Thriller,Crime,Western      119679  45000000   \n",
       "9          Action,Adventure,Sci-Fi,Fantasy,Thriller           0         0   \n",
       "10                                      Crime,Drama      377227   6500000   \n",
       "11                          Action,Mystery,Thriller       21575  10400000   \n",
       "12              Crime,Horror,Mystery,Drama,Thriller       27189   8000000   \n",
       "13                        Sport,Kids & Family,Drama        5636   1500000   \n",
       "14                    Action,Thriller,Mystery,Drama       75053  23000000   \n",
       "15                                   Horror,Mystery       46128  12000000   \n",
       "16                   Animation,Comedy,Kids & Family       20095  25000000   \n",
       "17                                   Drama,Thriller       44223  12000000   \n",
       "18                                      Crime,Drama        8683  30000000   \n",
       "19                             Thriller,Drama,Crime       39129   4000000   \n",
       "20                          Horror,Mystery,Thriller       22862  14000000   \n",
       "21                                     Crime,Comedy       17615  22000000   \n",
       "22                           Action,Horror,Thriller      109896  20000000   \n",
       "23                             Comedy,Drama,Romance      280266   8000000   \n",
       "24                                           Action       40985  30000000   \n",
       "25                                   Comedy,Romance       39965   1500000   \n",
       "26                                   Romance,Comedy       13137   1500000   \n",
       "27                               Drama,Thriller,War       92303  26000000   \n",
       "28                                            Drama       34610   2000000   \n",
       "29                                         Thriller       47562  42000000   \n",
       "...                                             ...         ...       ...   \n",
       "4196                                 Comedy,Mystery         334         0   \n",
       "4197                             Comedy,Documentary         315         0   \n",
       "4198                                          Music           0         0   \n",
       "4199                                          Music           0         0   \n",
       "4200                                         Comedy         131         0   \n",
       "4201                                          Music           0         0   \n",
       "4202                                         Comedy           0         0   \n",
       "4203                                          Music           0         0   \n",
       "4204                                          Drama         262         0   \n",
       "4205                                          Music           0         0   \n",
       "4206                                          Music           0         0   \n",
       "4207                                          Drama           0         0   \n",
       "4208                                          Music           0         0   \n",
       "4209                                          Drama           0         0   \n",
       "4210                                          Music           0         0   \n",
       "4211                                          Music           0         0   \n",
       "4212                                          Music           0         0   \n",
       "4213                                         Comedy       29450   2000000   \n",
       "4214                                          Music           0         0   \n",
       "4215                 Kids & Family,Animation,Comedy         178         0   \n",
       "4216                                          Drama           0         0   \n",
       "4217                                    Documentary          49         0   \n",
       "4218                                          Drama         545   2000000   \n",
       "4219                                          Drama           0         0   \n",
       "4220                                         Comedy           0         0   \n",
       "4221                                   Comedy,Drama          14         0   \n",
       "4222                                          Music           0         0   \n",
       "4223                                         Comedy         505         0   \n",
       "4224                                    Documentary           5    100000   \n",
       "4225                                  Drama,Romance          80         0   \n",
       "\n",
       "      boxoffice  imdb_rating  duration_in_mins  metacritic_score  \\\n",
       "0      42930462        6.500           112.301                51   \n",
       "1       3301046        6.500            94.983                41   \n",
       "2      37397291        7.300           115.764                58   \n",
       "3      15700000        7.600           130.704                94   \n",
       "4       8551228        6.400           105.546                37   \n",
       "5      32095318        5.500            98.468                37   \n",
       "6       8551228        5.200            94.336                57   \n",
       "7       2428883        6.600           123.303                68   \n",
       "8      12026670        6.400           107.213                54   \n",
       "9             0        0.000            94.748                 0   \n",
       "10     54557348        7.800           112.444                69   \n",
       "11      8551228        5.700            97.500                57   \n",
       "12      3992339        5.900            97.617                37   \n",
       "13      8551228        5.800           108.905                55   \n",
       "14     18934858        5.800            92.846                67   \n",
       "15     31397498        5.400            96.583                36   \n",
       "16     19528188        6.000            86.568                40   \n",
       "17      7918283        6.600           107.496                73   \n",
       "18     23461013        6.200           130.409                50   \n",
       "19       371897        6.900           117.769                74   \n",
       "20     16298046        5.000            90.262                38   \n",
       "21     20668843        5.800           103.950                41   \n",
       "22     29975979        6.500            97.816                57   \n",
       "23     34963967        7.700           100.038                72   \n",
       "24      8551228        5.600            92.329                40   \n",
       "25      8551228        6.800           112.226                53   \n",
       "26      8551228        5.700            91.683                57   \n",
       "27     28501651        7.100           104.639                58   \n",
       "28     60755732        4.800           113.040                16   \n",
       "29     16252765        6.000           116.196                33   \n",
       "...         ...          ...               ...               ...   \n",
       "4196          0        1.800            73.733                 0   \n",
       "4197          0        4.600             5.534                 0   \n",
       "4198          0        0.000            19.496                 0   \n",
       "4199          0        0.000            18.485                 0   \n",
       "4200          0        6.500            19.631                 0   \n",
       "4201          0        0.000            21.217                 0   \n",
       "4202          0        0.000            17.488                 0   \n",
       "4203          0        0.000            12.355                 0   \n",
       "4204          0        6.100            83.800                 0   \n",
       "4205          0        0.000            12.361                 0   \n",
       "4206          0        0.000           109.505                 0   \n",
       "4207          0        0.000            21.280                 0   \n",
       "4208          0        0.000            10.985                 0   \n",
       "4209          0        0.000            16.012                 0   \n",
       "4210          0        0.000            12.567                 0   \n",
       "4211          0        0.000            11.955                 0   \n",
       "4212          0        0.000            13.246                 0   \n",
       "4213    8551228        7.100            81.987                67   \n",
       "4214          0        0.000            15.595                 0   \n",
       "4215          0        4.800            69.388                 0   \n",
       "4216          0        0.000             9.224                 0   \n",
       "4217          0        8.200            35.400                 0   \n",
       "4218          0        6.800            90.417                 0   \n",
       "4219          0        0.000             7.487                 0   \n",
       "4220          0        0.000             5.876                 0   \n",
       "4221          0        7.800             4.312                 0   \n",
       "4222          0        0.000             4.879                 0   \n",
       "4223          0        7.100           110.350                 0   \n",
       "4224          0        6.000            79.633                 0   \n",
       "4225          0        7.600            53.618                 0   \n",
       "\n",
       "            awards      mpaa  star_category  \n",
       "0      other award     PG-13          1.710  \n",
       "1         no award         R          3.250  \n",
       "2      other award         R          2.647  \n",
       "3            Oscar         R          1.667  \n",
       "4      other award         R          3.067  \n",
       "5         no award     PG-13          2.750  \n",
       "6      other award         R          2.740  \n",
       "7      other award         R          3.003  \n",
       "8      other award         R          1.822  \n",
       "9      other award         R          2.080  \n",
       "10           Oscar         R          2.363  \n",
       "11     other award         R          2.214  \n",
       "12     other award         R          1.325  \n",
       "13     other award        PG          1.521  \n",
       "14     other award         R          3.112  \n",
       "15     other award     PG-13          2.029  \n",
       "16     other award        PG          1.391  \n",
       "17    Golden Globe         R          2.250  \n",
       "18     other award         R          1.667  \n",
       "19     other award         R          1.921  \n",
       "20     other award     PG-13          1.825  \n",
       "21     other award     PG-13          2.625  \n",
       "22     other award         R          2.160  \n",
       "23    Golden Globe         R          3.000  \n",
       "24        no award         R          1.914  \n",
       "25     other award        PG          2.583  \n",
       "26        no award         R          2.500  \n",
       "27    Golden Globe         R          1.930  \n",
       "28        no award        PG          1.538  \n",
       "29     other award         R          2.175  \n",
       "...            ...       ...            ...  \n",
       "4196   other award     PG-13          0.000  \n",
       "4197      no award         G          0.000  \n",
       "4198      no award     PG-13          0.000  \n",
       "4199      no award     PG-13          0.000  \n",
       "4200      no award  NotRated          2.675  \n",
       "4201      no award     PG-13          0.000  \n",
       "4202      no award  NotRated          2.000  \n",
       "4203      no award     PG-13          0.000  \n",
       "4204   other award  NotRated          0.000  \n",
       "4205      no award     PG-13          0.000  \n",
       "4206      no award  NotRated          0.000  \n",
       "4207      no award        PG          0.000  \n",
       "4208      no award     PG-13          0.000  \n",
       "4209      no award        PG          0.000  \n",
       "4210      no award     PG-13          0.000  \n",
       "4211      no award     PG-13          0.000  \n",
       "4212      no award     PG-13          0.000  \n",
       "4213   other award     PG-13          1.667  \n",
       "4214      no award     PG-13          0.000  \n",
       "4215      no award  NotRated          0.000  \n",
       "4216      no award        PG          0.000  \n",
       "4217      no award  NotRated          0.000  \n",
       "4218   other award  NotRated          0.000  \n",
       "4219      no award        PG          0.000  \n",
       "4220      no award  NotRated          2.300  \n",
       "4221      no award  NotRated          1.700  \n",
       "4222      no award     PG-13          0.000  \n",
       "4223   other award  NotRated          0.000  \n",
       "4224      no award  NotRated          0.000  \n",
       "4225      no award  NotRated          1.750  \n",
       "\n",
       "[4226 rows x 16 columns]>"
      ]
     },
     "execution_count": 3,
     "metadata": {},
     "output_type": "execute_result"
    }
   ],
   "source": [
    "my_data.info"
   ]
  },
  {
   "cell_type": "code",
   "execution_count": 4,
   "metadata": {},
   "outputs": [
    {
     "data": {
      "text/html": [
       "<div>\n",
       "<style scoped>\n",
       "    .dataframe tbody tr th:only-of-type {\n",
       "        vertical-align: middle;\n",
       "    }\n",
       "\n",
       "    .dataframe tbody tr th {\n",
       "        vertical-align: top;\n",
       "    }\n",
       "\n",
       "    .dataframe thead th {\n",
       "        text-align: right;\n",
       "    }\n",
       "</style>\n",
       "<table border=\"1\" class=\"dataframe\">\n",
       "  <thead>\n",
       "    <tr style=\"text-align: right;\">\n",
       "      <th></th>\n",
       "      <th>video_id</th>\n",
       "      <th>cvt_per_day</th>\n",
       "      <th>weighted_categorical_position</th>\n",
       "      <th>weighted_horizontal_poition</th>\n",
       "      <th>import_id</th>\n",
       "      <th>release_year</th>\n",
       "      <th>genres</th>\n",
       "      <th>imdb_votes</th>\n",
       "      <th>budget</th>\n",
       "      <th>boxoffice</th>\n",
       "      <th>imdb_rating</th>\n",
       "      <th>duration_in_mins</th>\n",
       "      <th>metacritic_score</th>\n",
       "      <th>awards</th>\n",
       "      <th>mpaa</th>\n",
       "      <th>star_category</th>\n",
       "    </tr>\n",
       "  </thead>\n",
       "  <tbody>\n",
       "    <tr>\n",
       "      <th>0</th>\n",
       "      <td>385504</td>\n",
       "      <td>307127.606</td>\n",
       "      <td>1</td>\n",
       "      <td>3</td>\n",
       "      <td>lionsgate</td>\n",
       "      <td>2013</td>\n",
       "      <td>Action,Thriller,Drama</td>\n",
       "      <td>69614</td>\n",
       "      <td>15000000</td>\n",
       "      <td>42930462</td>\n",
       "      <td>6.500</td>\n",
       "      <td>112.301</td>\n",
       "      <td>51</td>\n",
       "      <td>other award</td>\n",
       "      <td>PG-13</td>\n",
       "      <td>1.710</td>\n",
       "    </tr>\n",
       "    <tr>\n",
       "      <th>1</th>\n",
       "      <td>300175</td>\n",
       "      <td>270338.426</td>\n",
       "      <td>1</td>\n",
       "      <td>3</td>\n",
       "      <td>lionsgate</td>\n",
       "      <td>2013</td>\n",
       "      <td>Comedy,Crime,Thriller</td>\n",
       "      <td>46705</td>\n",
       "      <td>15000000</td>\n",
       "      <td>3301046</td>\n",
       "      <td>6.500</td>\n",
       "      <td>94.983</td>\n",
       "      <td>41</td>\n",
       "      <td>no award</td>\n",
       "      <td>R</td>\n",
       "      <td>3.250</td>\n",
       "    </tr>\n",
       "  </tbody>\n",
       "</table>\n",
       "</div>"
      ],
      "text/plain": [
       "   video_id  cvt_per_day  weighted_categorical_position  \\\n",
       "0    385504   307127.606                              1   \n",
       "1    300175   270338.426                              1   \n",
       "\n",
       "   weighted_horizontal_poition  import_id  release_year  \\\n",
       "0                            3  lionsgate          2013   \n",
       "1                            3  lionsgate          2013   \n",
       "\n",
       "                  genres  imdb_votes    budget  boxoffice  imdb_rating  \\\n",
       "0  Action,Thriller,Drama       69614  15000000   42930462        6.500   \n",
       "1  Comedy,Crime,Thriller       46705  15000000    3301046        6.500   \n",
       "\n",
       "   duration_in_mins  metacritic_score       awards   mpaa  star_category  \n",
       "0           112.301                51  other award  PG-13          1.710  \n",
       "1            94.983                41     no award      R          3.250  "
      ]
     },
     "execution_count": 4,
     "metadata": {},
     "output_type": "execute_result"
    }
   ],
   "source": [
    "my_data.head(2)"
   ]
  },
  {
   "cell_type": "code",
   "execution_count": 10,
   "metadata": {},
   "outputs": [
    {
     "data": {
      "text/html": [
       "<div>\n",
       "<style scoped>\n",
       "    .dataframe tbody tr th:only-of-type {\n",
       "        vertical-align: middle;\n",
       "    }\n",
       "\n",
       "    .dataframe tbody tr th {\n",
       "        vertical-align: top;\n",
       "    }\n",
       "\n",
       "    .dataframe thead th {\n",
       "        text-align: right;\n",
       "    }\n",
       "</style>\n",
       "<table border=\"1\" class=\"dataframe\">\n",
       "  <thead>\n",
       "    <tr style=\"text-align: right;\">\n",
       "      <th></th>\n",
       "      <th>video_id</th>\n",
       "      <th>cvt_per_day</th>\n",
       "      <th>weighted_categorical_position</th>\n",
       "      <th>weighted_horizontal_poition</th>\n",
       "      <th>release_year</th>\n",
       "      <th>imdb_votes</th>\n",
       "      <th>budget</th>\n",
       "      <th>boxoffice</th>\n",
       "      <th>imdb_rating</th>\n",
       "      <th>duration_in_mins</th>\n",
       "      <th>metacritic_score</th>\n",
       "      <th>star_category</th>\n",
       "    </tr>\n",
       "  </thead>\n",
       "  <tbody>\n",
       "    <tr>\n",
       "      <th>count</th>\n",
       "      <td>4226.000</td>\n",
       "      <td>4226.000</td>\n",
       "      <td>4226.000</td>\n",
       "      <td>4226.000</td>\n",
       "      <td>4226.000</td>\n",
       "      <td>4226.000</td>\n",
       "      <td>4226.000</td>\n",
       "      <td>4226.000</td>\n",
       "      <td>4226.000</td>\n",
       "      <td>4226.000</td>\n",
       "      <td>4226.000</td>\n",
       "      <td>4226.000</td>\n",
       "    </tr>\n",
       "    <tr>\n",
       "      <th>mean</th>\n",
       "      <td>280371.163</td>\n",
       "      <td>4218.630</td>\n",
       "      <td>7.783</td>\n",
       "      <td>28.104</td>\n",
       "      <td>2001.057</td>\n",
       "      <td>6462.924</td>\n",
       "      <td>2150743.439</td>\n",
       "      <td>2536338.472</td>\n",
       "      <td>5.257</td>\n",
       "      <td>89.556</td>\n",
       "      <td>15.974</td>\n",
       "      <td>0.955</td>\n",
       "    </tr>\n",
       "    <tr>\n",
       "      <th>std</th>\n",
       "      <td>112640.128</td>\n",
       "      <td>13036.080</td>\n",
       "      <td>6.134</td>\n",
       "      <td>11.864</td>\n",
       "      <td>17.497</td>\n",
       "      <td>31596.007</td>\n",
       "      <td>7176604.483</td>\n",
       "      <td>8243516.266</td>\n",
       "      <td>2.123</td>\n",
       "      <td>21.086</td>\n",
       "      <td>26.205</td>\n",
       "      <td>0.955</td>\n",
       "    </tr>\n",
       "    <tr>\n",
       "      <th>min</th>\n",
       "      <td>7909.000</td>\n",
       "      <td>2.188</td>\n",
       "      <td>1.000</td>\n",
       "      <td>1.000</td>\n",
       "      <td>1916.000</td>\n",
       "      <td>0.000</td>\n",
       "      <td>0.000</td>\n",
       "      <td>0.000</td>\n",
       "      <td>0.000</td>\n",
       "      <td>4.037</td>\n",
       "      <td>0.000</td>\n",
       "      <td>0.000</td>\n",
       "    </tr>\n",
       "    <tr>\n",
       "      <th>25%</th>\n",
       "      <td>285104.250</td>\n",
       "      <td>351.169</td>\n",
       "      <td>4.000</td>\n",
       "      <td>20.000</td>\n",
       "      <td>1998.000</td>\n",
       "      <td>81.000</td>\n",
       "      <td>0.000</td>\n",
       "      <td>0.000</td>\n",
       "      <td>4.300</td>\n",
       "      <td>82.602</td>\n",
       "      <td>0.000</td>\n",
       "      <td>0.000</td>\n",
       "    </tr>\n",
       "    <tr>\n",
       "      <th>50%</th>\n",
       "      <td>313891.500</td>\n",
       "      <td>1193.500</td>\n",
       "      <td>6.000</td>\n",
       "      <td>28.000</td>\n",
       "      <td>2008.000</td>\n",
       "      <td>535.000</td>\n",
       "      <td>0.000</td>\n",
       "      <td>0.000</td>\n",
       "      <td>5.800</td>\n",
       "      <td>90.730</td>\n",
       "      <td>0.000</td>\n",
       "      <td>1.000</td>\n",
       "    </tr>\n",
       "    <tr>\n",
       "      <th>75%</th>\n",
       "      <td>349345.750</td>\n",
       "      <td>3356.789</td>\n",
       "      <td>9.000</td>\n",
       "      <td>36.000</td>\n",
       "      <td>2012.000</td>\n",
       "      <td>3053.000</td>\n",
       "      <td>1500000.000</td>\n",
       "      <td>0.000</td>\n",
       "      <td>6.800</td>\n",
       "      <td>99.500</td>\n",
       "      <td>41.000</td>\n",
       "      <td>1.667</td>\n",
       "    </tr>\n",
       "    <tr>\n",
       "      <th>max</th>\n",
       "      <td>394880.000</td>\n",
       "      <td>307127.606</td>\n",
       "      <td>41.000</td>\n",
       "      <td>70.000</td>\n",
       "      <td>2017.000</td>\n",
       "      <td>948630.000</td>\n",
       "      <td>107000000.000</td>\n",
       "      <td>184208848.000</td>\n",
       "      <td>10.000</td>\n",
       "      <td>246.017</td>\n",
       "      <td>100.000</td>\n",
       "      <td>4.000</td>\n",
       "    </tr>\n",
       "  </tbody>\n",
       "</table>\n",
       "</div>"
      ],
      "text/plain": [
       "        video_id  cvt_per_day  weighted_categorical_position  \\\n",
       "count   4226.000     4226.000                       4226.000   \n",
       "mean  280371.163     4218.630                          7.783   \n",
       "std   112640.128    13036.080                          6.134   \n",
       "min     7909.000        2.188                          1.000   \n",
       "25%   285104.250      351.169                          4.000   \n",
       "50%   313891.500     1193.500                          6.000   \n",
       "75%   349345.750     3356.789                          9.000   \n",
       "max   394880.000   307127.606                         41.000   \n",
       "\n",
       "       weighted_horizontal_poition  release_year  imdb_votes        budget  \\\n",
       "count                     4226.000      4226.000    4226.000      4226.000   \n",
       "mean                        28.104      2001.057    6462.924   2150743.439   \n",
       "std                         11.864        17.497   31596.007   7176604.483   \n",
       "min                          1.000      1916.000       0.000         0.000   \n",
       "25%                         20.000      1998.000      81.000         0.000   \n",
       "50%                         28.000      2008.000     535.000         0.000   \n",
       "75%                         36.000      2012.000    3053.000   1500000.000   \n",
       "max                         70.000      2017.000  948630.000 107000000.000   \n",
       "\n",
       "          boxoffice  imdb_rating  duration_in_mins  metacritic_score  \\\n",
       "count      4226.000     4226.000          4226.000          4226.000   \n",
       "mean    2536338.472        5.257            89.556            15.974   \n",
       "std     8243516.266        2.123            21.086            26.205   \n",
       "min           0.000        0.000             4.037             0.000   \n",
       "25%           0.000        4.300            82.602             0.000   \n",
       "50%           0.000        5.800            90.730             0.000   \n",
       "75%           0.000        6.800            99.500            41.000   \n",
       "max   184208848.000       10.000           246.017           100.000   \n",
       "\n",
       "       star_category  \n",
       "count       4226.000  \n",
       "mean           0.955  \n",
       "std            0.955  \n",
       "min            0.000  \n",
       "25%            0.000  \n",
       "50%            1.000  \n",
       "75%            1.667  \n",
       "max            4.000  "
      ]
     },
     "execution_count": 10,
     "metadata": {},
     "output_type": "execute_result"
    }
   ],
   "source": [
    "my_data.describe()"
   ]
  },
  {
   "cell_type": "code",
   "execution_count": 8,
   "metadata": {},
   "outputs": [
    {
     "data": {
      "text/plain": [
       "<matplotlib.axes._subplots.AxesSubplot at 0x10f901940>"
      ]
     },
     "execution_count": 8,
     "metadata": {},
     "output_type": "execute_result"
    },
    {
     "data": {
      "image/png": "[encoded data removed]",
      "text/plain": [
       "<Figure size 432x288 with 2 Axes>"
      ]
     },
     "metadata": {
      "needs_background": "light"
     },
     "output_type": "display_data"
    }
   ],
   "source": [
    "sns.heatmap(my_data.isnull(),cmap = 'YlGnBu')"
   ]
  },
  {
   "cell_type": "code",
   "execution_count": 5,
   "metadata": {},
   "outputs": [
    {
     "data": {
      "text/plain": [
       "(4226, 16)"
      ]
     },
     "execution_count": 5,
     "metadata": {},
     "output_type": "execute_result"
    }
   ],
   "source": [
    "tv_data_df = my_data\n",
    "tv_data_df.shape"
   ]
  },
  {
   "cell_type": "code",
   "execution_count": 11,
   "metadata": {},
   "outputs": [
    {
     "name": "stdout",
     "output_type": "stream",
     "text": [
      "Num of rows: 4226\n",
      "Num of columns: 16\n"
     ]
    }
   ],
   "source": [
    "print (\"Num of rows: \" + str(tv_data_df.shape[0])) # row count\n",
    "print (\"Num of columns: \" + str(tv_data_df.shape[1])) # col count"
   ]
  },
  {
   "cell_type": "code",
   "execution_count": 6,
   "metadata": {},
   "outputs": [
    {
     "name": "stdout",
     "output_type": "stream",
     "text": [
      "0\n"
     ]
    }
   ],
   "source": [
    "print(len(tv_data_df.set_index('video_id').index.get_duplicates()))"
   ]
  },
  {
   "cell_type": "code",
   "execution_count": 7,
   "metadata": {},
   "outputs": [
    {
     "name": "stdout",
     "output_type": "stream",
     "text": [
      "There is no duplicated entry (video_id based).\n"
     ]
    }
   ],
   "source": [
    "# check duplicated entry\n",
    "if len(tv_data_df.set_index('video_id').index.get_duplicates()) == 0:\n",
    "    print('There is no duplicated entry (video_id based).')"
   ]
  },
  {
   "cell_type": "code",
   "execution_count": null,
   "metadata": {},
   "outputs": [],
   "source": [
    "#Understand the numerical features"
   ]
  },
  {
   "cell_type": "code",
   "execution_count": null,
   "metadata": {},
   "outputs": [],
   "source": [
    "# note : video_id, release_year  are not numerical features although they are represented by numbers"
   ]
  },
  {
   "cell_type": "code",
   "execution_count": 8,
   "metadata": {},
   "outputs": [
    {
     "data": {
      "text/html": [
       "<div>\n",
       "<style scoped>\n",
       "    .dataframe tbody tr th:only-of-type {\n",
       "        vertical-align: middle;\n",
       "    }\n",
       "\n",
       "    .dataframe tbody tr th {\n",
       "        vertical-align: top;\n",
       "    }\n",
       "\n",
       "    .dataframe thead th {\n",
       "        text-align: right;\n",
       "    }\n",
       "</style>\n",
       "<table border=\"1\" class=\"dataframe\">\n",
       "  <thead>\n",
       "    <tr style=\"text-align: right;\">\n",
       "      <th></th>\n",
       "      <th>cvt_per_day</th>\n",
       "      <th>weighted_categorical_position</th>\n",
       "      <th>weighted_horizontal_poition</th>\n",
       "      <th>imdb_votes</th>\n",
       "      <th>budget</th>\n",
       "      <th>boxoffice</th>\n",
       "      <th>imdb_rating</th>\n",
       "      <th>duration_in_mins</th>\n",
       "      <th>metacritic_score</th>\n",
       "      <th>star_category</th>\n",
       "    </tr>\n",
       "  </thead>\n",
       "  <tbody>\n",
       "    <tr>\n",
       "      <th>count</th>\n",
       "      <td>4226.000</td>\n",
       "      <td>4226.000</td>\n",
       "      <td>4226.000</td>\n",
       "      <td>4226.000</td>\n",
       "      <td>4226.000</td>\n",
       "      <td>4226.000</td>\n",
       "      <td>4226.000</td>\n",
       "      <td>4226.000</td>\n",
       "      <td>4226.000</td>\n",
       "      <td>4226.000</td>\n",
       "    </tr>\n",
       "    <tr>\n",
       "      <th>mean</th>\n",
       "      <td>4218.630</td>\n",
       "      <td>7.783</td>\n",
       "      <td>28.104</td>\n",
       "      <td>6462.924</td>\n",
       "      <td>2150743.439</td>\n",
       "      <td>2536338.472</td>\n",
       "      <td>5.257</td>\n",
       "      <td>89.556</td>\n",
       "      <td>15.974</td>\n",
       "      <td>0.955</td>\n",
       "    </tr>\n",
       "    <tr>\n",
       "      <th>std</th>\n",
       "      <td>13036.080</td>\n",
       "      <td>6.134</td>\n",
       "      <td>11.864</td>\n",
       "      <td>31596.007</td>\n",
       "      <td>7176604.483</td>\n",
       "      <td>8243516.266</td>\n",
       "      <td>2.123</td>\n",
       "      <td>21.086</td>\n",
       "      <td>26.205</td>\n",
       "      <td>0.955</td>\n",
       "    </tr>\n",
       "    <tr>\n",
       "      <th>min</th>\n",
       "      <td>2.188</td>\n",
       "      <td>1.000</td>\n",
       "      <td>1.000</td>\n",
       "      <td>0.000</td>\n",
       "      <td>0.000</td>\n",
       "      <td>0.000</td>\n",
       "      <td>0.000</td>\n",
       "      <td>4.037</td>\n",
       "      <td>0.000</td>\n",
       "      <td>0.000</td>\n",
       "    </tr>\n",
       "    <tr>\n",
       "      <th>10%</th>\n",
       "      <td>141.985</td>\n",
       "      <td>3.000</td>\n",
       "      <td>13.000</td>\n",
       "      <td>8.000</td>\n",
       "      <td>0.000</td>\n",
       "      <td>0.000</td>\n",
       "      <td>2.300</td>\n",
       "      <td>62.391</td>\n",
       "      <td>0.000</td>\n",
       "      <td>0.000</td>\n",
       "    </tr>\n",
       "    <tr>\n",
       "      <th>25%</th>\n",
       "      <td>351.169</td>\n",
       "      <td>4.000</td>\n",
       "      <td>20.000</td>\n",
       "      <td>81.000</td>\n",
       "      <td>0.000</td>\n",
       "      <td>0.000</td>\n",
       "      <td>4.300</td>\n",
       "      <td>82.602</td>\n",
       "      <td>0.000</td>\n",
       "      <td>0.000</td>\n",
       "    </tr>\n",
       "    <tr>\n",
       "      <th>50%</th>\n",
       "      <td>1193.500</td>\n",
       "      <td>6.000</td>\n",
       "      <td>28.000</td>\n",
       "      <td>535.000</td>\n",
       "      <td>0.000</td>\n",
       "      <td>0.000</td>\n",
       "      <td>5.800</td>\n",
       "      <td>90.730</td>\n",
       "      <td>0.000</td>\n",
       "      <td>1.000</td>\n",
       "    </tr>\n",
       "    <tr>\n",
       "      <th>75%</th>\n",
       "      <td>3356.789</td>\n",
       "      <td>9.000</td>\n",
       "      <td>36.000</td>\n",
       "      <td>3053.000</td>\n",
       "      <td>1500000.000</td>\n",
       "      <td>0.000</td>\n",
       "      <td>6.800</td>\n",
       "      <td>99.500</td>\n",
       "      <td>41.000</td>\n",
       "      <td>1.667</td>\n",
       "    </tr>\n",
       "    <tr>\n",
       "      <th>95%</th>\n",
       "      <td>14692.834</td>\n",
       "      <td>22.000</td>\n",
       "      <td>48.000</td>\n",
       "      <td>26199.500</td>\n",
       "      <td>12000000.000</td>\n",
       "      <td>8551228.000</td>\n",
       "      <td>7.800</td>\n",
       "      <td>119.131</td>\n",
       "      <td>65.000</td>\n",
       "      <td>2.597</td>\n",
       "    </tr>\n",
       "    <tr>\n",
       "      <th>max</th>\n",
       "      <td>307127.606</td>\n",
       "      <td>41.000</td>\n",
       "      <td>70.000</td>\n",
       "      <td>948630.000</td>\n",
       "      <td>107000000.000</td>\n",
       "      <td>184208848.000</td>\n",
       "      <td>10.000</td>\n",
       "      <td>246.017</td>\n",
       "      <td>100.000</td>\n",
       "      <td>4.000</td>\n",
       "    </tr>\n",
       "  </tbody>\n",
       "</table>\n",
       "</div>"
      ],
      "text/plain": [
       "       cvt_per_day  weighted_categorical_position  \\\n",
       "count     4226.000                       4226.000   \n",
       "mean      4218.630                          7.783   \n",
       "std      13036.080                          6.134   \n",
       "min          2.188                          1.000   \n",
       "10%        141.985                          3.000   \n",
       "25%        351.169                          4.000   \n",
       "50%       1193.500                          6.000   \n",
       "75%       3356.789                          9.000   \n",
       "95%      14692.834                         22.000   \n",
       "max     307127.606                         41.000   \n",
       "\n",
       "       weighted_horizontal_poition  imdb_votes        budget     boxoffice  \\\n",
       "count                     4226.000    4226.000      4226.000      4226.000   \n",
       "mean                        28.104    6462.924   2150743.439   2536338.472   \n",
       "std                         11.864   31596.007   7176604.483   8243516.266   \n",
       "min                          1.000       0.000         0.000         0.000   \n",
       "10%                         13.000       8.000         0.000         0.000   \n",
       "25%                         20.000      81.000         0.000         0.000   \n",
       "50%                         28.000     535.000         0.000         0.000   \n",
       "75%                         36.000    3053.000   1500000.000         0.000   \n",
       "95%                         48.000   26199.500  12000000.000   8551228.000   \n",
       "max                         70.000  948630.000 107000000.000 184208848.000   \n",
       "\n",
       "       imdb_rating  duration_in_mins  metacritic_score  star_category  \n",
       "count     4226.000          4226.000          4226.000       4226.000  \n",
       "mean         5.257            89.556            15.974          0.955  \n",
       "std          2.123            21.086            26.205          0.955  \n",
       "min          0.000             4.037             0.000          0.000  \n",
       "10%          2.300            62.391             0.000          0.000  \n",
       "25%          4.300            82.602             0.000          0.000  \n",
       "50%          5.800            90.730             0.000          1.000  \n",
       "75%          6.800            99.500            41.000          1.667  \n",
       "95%          7.800           119.131            65.000          2.597  \n",
       "max         10.000           246.017           100.000          4.000  "
      ]
     },
     "execution_count": 8,
     "metadata": {},
     "output_type": "execute_result"
    }
   ],
   "source": [
    "tv_data_df.drop(['video_id', 'release_year'],axis=1).describe(percentiles = [.1, .25, .5, .75, .95])"
   ]
  },
  {
   "cell_type": "code",
   "execution_count": 16,
   "metadata": {},
   "outputs": [
    {
     "name": "stdout",
     "output_type": "stream",
     "text": [
      "video_id                            0\n",
      "cvt_per_day                         0\n",
      "weighted_categorical_position       0\n",
      "weighted_horizontal_poition         0\n",
      "import_id                           0\n",
      "release_year                        0\n",
      "genres                              0\n",
      "imdb_votes                        344\n",
      "budget                           2454\n",
      "boxoffice                        3194\n",
      "imdb_rating                       344\n",
      "duration_in_mins                    0\n",
      "metacritic_score                 3012\n",
      "awards                              0\n",
      "mpaa                                0\n",
      "star_category                    1846\n",
      "dtype: int64\n"
     ]
    }
   ],
   "source": [
    "print((tv_data_df == 0).sum())"
   ]
  },
  {
   "cell_type": "code",
   "execution_count": 17,
   "metadata": {},
   "outputs": [
    {
     "name": "stdout",
     "output_type": "stream",
     "text": [
      "video_id                           int64\n",
      "cvt_per_day                      float64\n",
      "weighted_categorical_position      int64\n",
      "weighted_horizontal_poition        int64\n",
      "import_id                         object\n",
      "release_year                       int64\n",
      "genres                            object\n",
      "imdb_votes                         int64\n",
      "budget                             int64\n",
      "boxoffice                          int64\n",
      "imdb_rating                      float64\n",
      "duration_in_mins                 float64\n",
      "metacritic_score                   int64\n",
      "awards                            object\n",
      "mpaa                              object\n",
      "star_category                    float64\n",
      "dtype: object\n"
     ]
    }
   ],
   "source": [
    "print(tv_data_df.dtypes)"
   ]
  },
  {
   "cell_type": "code",
   "execution_count": 14,
   "metadata": {},
   "outputs": [],
   "source": [
    "sns.set_style('darkgrid')"
   ]
  },
  {
   "cell_type": "code",
   "execution_count": 26,
   "metadata": {},
   "outputs": [
    {
     "data": {
      "text/plain": [
       "<matplotlib.axes._subplots.AxesSubplot at 0x1a24ae4748>"
      ]
     },
     "execution_count": 26,
     "metadata": {},
     "output_type": "execute_result"
    },
    {
     "data": {
      "image/png": "[encoded data removed]",
      "text/plain": [
       "<Figure size 432x288 with 1 Axes>"
      ]
     },
     "metadata": {},
     "output_type": "display_data"
    }
   ],
   "source": [
    "sns.distplot(tv_data_df['cvt_per_day'],bins = range(0,15000, 100), color = 'red',kde = False)"
   ]
  },
  {
   "cell_type": "code",
   "execution_count": 15,
   "metadata": {},
   "outputs": [
    {
     "data": {
      "image/png": "[encoded data removed]",
      "text/plain": [
       "<Figure size 432x288 with 1 Axes>"
      ]
     },
     "metadata": {},
     "output_type": "display_data"
    }
   ],
   "source": [
    "# log scale of y due to large variation\n",
    "plt.hist(tv_data_df['cvt_per_day'].values, log = True, bins = range(0,15000, 30), alpha = 0.5, color='g', label = 'cvt_per_day_log_scale', normed = True)\n",
    "plt.legend(loc ='upper right')\n",
    "plt.title('Historgrams of cvt_per_day before data processing')\n",
    "plt.xlabel('cvt_per_day_log_scale')\n",
    "plt.ylabel('density')\n",
    "plt.show()"
   ]
  },
  {
   "cell_type": "code",
   "execution_count": null,
   "metadata": {},
   "outputs": [],
   "source": [
    "#1.2.2 cvt_per_day feature. cvt is continuouos view time"
   ]
  },
  {
   "cell_type": "code",
   "execution_count": 16,
   "metadata": {},
   "outputs": [
    {
     "data": {
      "image/png": "[encoded data removed]",
      "text/plain": [
       "<Figure size 432x288 with 1 Axes>"
      ]
     },
     "metadata": {},
     "output_type": "display_data"
    }
   ],
   "source": [
    "# cvt_per_day data explore\n",
    "plt.hist(tv_data_df['cvt_per_day'].values, bins = range(0,15000, 100), alpha = 0.5, color='r', label = 'cvt_per_day', normed = True)\n",
    "plt.legend(loc ='upper right')\n",
    "plt.title('Historgrams of cvt_per_day before data processing')\n",
    "plt.xlabel('cvt_per_day')\n",
    "plt.ylabel('density')\n",
    "plt.show()"
   ]
  },
  {
   "cell_type": "code",
   "execution_count": 18,
   "metadata": {},
   "outputs": [
    {
     "data": {
      "image/png": "[encoded data removed]",
      "text/plain": [
       "<Figure size 432x288 with 1 Axes>"
      ]
     },
     "metadata": {},
     "output_type": "display_data"
    }
   ],
   "source": [
    "# log scale of y due to large variation\n",
    "plt.hist(tv_data_df['cvt_per_day'].values, log = True, bins = range(0,15000, 80), alpha = 0.5, color='g', label = 'cvt_per_day_log_scale', normed = True)\n",
    "plt.legend(loc ='upper right')\n",
    "plt.title('Historgrams of cvt_per_day before data processing')\n",
    "plt.xlabel('cvt_per_day_log_scale')\n",
    "plt.ylabel('density')\n",
    "plt.show()"
   ]
  },
  {
   "cell_type": "code",
   "execution_count": null,
   "metadata": {},
   "outputs": [],
   "source": [
    "#Correlation among numerical features"
   ]
  },
  {
   "cell_type": "code",
   "execution_count": 29,
   "metadata": {},
   "outputs": [
    {
     "data": {
      "text/plain": [
       "<matplotlib.axes._subplots.AxesSubplot at 0x1a2562f240>"
      ]
     },
     "execution_count": 29,
     "metadata": {},
     "output_type": "execute_result"
    },
    {
     "data": {
      "image/png": "[encoded data removed]",
      "text/plain": [
       "<Figure size 432x288 with 2 Axes>"
      ]
     },
     "metadata": {},
     "output_type": "display_data"
    }
   ],
   "source": [
    "sns.heatmap(tv_data_df.drop(['video_id'],axis=1).corr(),cmap=\"YlGnBu\")"
   ]
  },
  {
   "cell_type": "code",
   "execution_count": 30,
   "metadata": {},
   "outputs": [
    {
     "data": {
      "text/html": [
       "<div>\n",
       "<style scoped>\n",
       "    .dataframe tbody tr th:only-of-type {\n",
       "        vertical-align: middle;\n",
       "    }\n",
       "\n",
       "    .dataframe tbody tr th {\n",
       "        vertical-align: top;\n",
       "    }\n",
       "\n",
       "    .dataframe thead th {\n",
       "        text-align: right;\n",
       "    }\n",
       "</style>\n",
       "<table border=\"1\" class=\"dataframe\">\n",
       "  <thead>\n",
       "    <tr style=\"text-align: right;\">\n",
       "      <th></th>\n",
       "      <th>cvt_per_day</th>\n",
       "      <th>weighted_categorical_position</th>\n",
       "      <th>weighted_horizontal_poition</th>\n",
       "      <th>release_year</th>\n",
       "      <th>imdb_votes</th>\n",
       "      <th>budget</th>\n",
       "      <th>boxoffice</th>\n",
       "      <th>imdb_rating</th>\n",
       "      <th>duration_in_mins</th>\n",
       "      <th>metacritic_score</th>\n",
       "      <th>star_category</th>\n",
       "    </tr>\n",
       "  </thead>\n",
       "  <tbody>\n",
       "    <tr>\n",
       "      <th>cvt_per_day</th>\n",
       "      <td>1.000</td>\n",
       "      <td>-0.148</td>\n",
       "      <td>-0.302</td>\n",
       "      <td>0.046</td>\n",
       "      <td>0.298</td>\n",
       "      <td>0.316</td>\n",
       "      <td>0.312</td>\n",
       "      <td>0.059</td>\n",
       "      <td>0.152</td>\n",
       "      <td>0.249</td>\n",
       "      <td>0.247</td>\n",
       "    </tr>\n",
       "    <tr>\n",
       "      <th>weighted_categorical_position</th>\n",
       "      <td>-0.148</td>\n",
       "      <td>1.000</td>\n",
       "      <td>-0.084</td>\n",
       "      <td>-0.069</td>\n",
       "      <td>-0.064</td>\n",
       "      <td>-0.090</td>\n",
       "      <td>-0.074</td>\n",
       "      <td>-0.116</td>\n",
       "      <td>-0.174</td>\n",
       "      <td>-0.044</td>\n",
       "      <td>-0.123</td>\n",
       "    </tr>\n",
       "    <tr>\n",
       "      <th>weighted_horizontal_poition</th>\n",
       "      <td>-0.302</td>\n",
       "      <td>-0.084</td>\n",
       "      <td>1.000</td>\n",
       "      <td>0.027</td>\n",
       "      <td>-0.221</td>\n",
       "      <td>-0.211</td>\n",
       "      <td>-0.245</td>\n",
       "      <td>-0.162</td>\n",
       "      <td>-0.102</td>\n",
       "      <td>-0.255</td>\n",
       "      <td>-0.168</td>\n",
       "    </tr>\n",
       "    <tr>\n",
       "      <th>release_year</th>\n",
       "      <td>0.046</td>\n",
       "      <td>-0.069</td>\n",
       "      <td>0.027</td>\n",
       "      <td>1.000</td>\n",
       "      <td>-0.083</td>\n",
       "      <td>-0.040</td>\n",
       "      <td>-0.128</td>\n",
       "      <td>-0.199</td>\n",
       "      <td>-0.097</td>\n",
       "      <td>-0.167</td>\n",
       "      <td>-0.198</td>\n",
       "    </tr>\n",
       "    <tr>\n",
       "      <th>imdb_votes</th>\n",
       "      <td>0.298</td>\n",
       "      <td>-0.064</td>\n",
       "      <td>-0.221</td>\n",
       "      <td>-0.083</td>\n",
       "      <td>1.000</td>\n",
       "      <td>0.273</td>\n",
       "      <td>0.531</td>\n",
       "      <td>0.163</td>\n",
       "      <td>0.156</td>\n",
       "      <td>0.322</td>\n",
       "      <td>0.225</td>\n",
       "    </tr>\n",
       "    <tr>\n",
       "      <th>budget</th>\n",
       "      <td>0.316</td>\n",
       "      <td>-0.090</td>\n",
       "      <td>-0.211</td>\n",
       "      <td>-0.040</td>\n",
       "      <td>0.273</td>\n",
       "      <td>1.000</td>\n",
       "      <td>0.505</td>\n",
       "      <td>0.106</td>\n",
       "      <td>0.251</td>\n",
       "      <td>0.315</td>\n",
       "      <td>0.322</td>\n",
       "    </tr>\n",
       "    <tr>\n",
       "      <th>boxoffice</th>\n",
       "      <td>0.312</td>\n",
       "      <td>-0.074</td>\n",
       "      <td>-0.245</td>\n",
       "      <td>-0.128</td>\n",
       "      <td>0.531</td>\n",
       "      <td>0.505</td>\n",
       "      <td>1.000</td>\n",
       "      <td>0.164</td>\n",
       "      <td>0.226</td>\n",
       "      <td>0.465</td>\n",
       "      <td>0.322</td>\n",
       "    </tr>\n",
       "    <tr>\n",
       "      <th>imdb_rating</th>\n",
       "      <td>0.059</td>\n",
       "      <td>-0.116</td>\n",
       "      <td>-0.162</td>\n",
       "      <td>-0.199</td>\n",
       "      <td>0.163</td>\n",
       "      <td>0.106</td>\n",
       "      <td>0.164</td>\n",
       "      <td>1.000</td>\n",
       "      <td>0.344</td>\n",
       "      <td>0.347</td>\n",
       "      <td>0.192</td>\n",
       "    </tr>\n",
       "    <tr>\n",
       "      <th>duration_in_mins</th>\n",
       "      <td>0.152</td>\n",
       "      <td>-0.174</td>\n",
       "      <td>-0.102</td>\n",
       "      <td>-0.097</td>\n",
       "      <td>0.156</td>\n",
       "      <td>0.251</td>\n",
       "      <td>0.226</td>\n",
       "      <td>0.344</td>\n",
       "      <td>1.000</td>\n",
       "      <td>0.327</td>\n",
       "      <td>0.309</td>\n",
       "    </tr>\n",
       "    <tr>\n",
       "      <th>metacritic_score</th>\n",
       "      <td>0.249</td>\n",
       "      <td>-0.044</td>\n",
       "      <td>-0.255</td>\n",
       "      <td>-0.167</td>\n",
       "      <td>0.322</td>\n",
       "      <td>0.315</td>\n",
       "      <td>0.465</td>\n",
       "      <td>0.347</td>\n",
       "      <td>0.327</td>\n",
       "      <td>1.000</td>\n",
       "      <td>0.452</td>\n",
       "    </tr>\n",
       "    <tr>\n",
       "      <th>star_category</th>\n",
       "      <td>0.247</td>\n",
       "      <td>-0.123</td>\n",
       "      <td>-0.168</td>\n",
       "      <td>-0.198</td>\n",
       "      <td>0.225</td>\n",
       "      <td>0.322</td>\n",
       "      <td>0.322</td>\n",
       "      <td>0.192</td>\n",
       "      <td>0.309</td>\n",
       "      <td>0.452</td>\n",
       "      <td>1.000</td>\n",
       "    </tr>\n",
       "  </tbody>\n",
       "</table>\n",
       "</div>"
      ],
      "text/plain": [
       "                               cvt_per_day  weighted_categorical_position  \\\n",
       "cvt_per_day                          1.000                         -0.148   \n",
       "weighted_categorical_position       -0.148                          1.000   \n",
       "weighted_horizontal_poition         -0.302                         -0.084   \n",
       "release_year                         0.046                         -0.069   \n",
       "imdb_votes                           0.298                         -0.064   \n",
       "budget                               0.316                         -0.090   \n",
       "boxoffice                            0.312                         -0.074   \n",
       "imdb_rating                          0.059                         -0.116   \n",
       "duration_in_mins                     0.152                         -0.174   \n",
       "metacritic_score                     0.249                         -0.044   \n",
       "star_category                        0.247                         -0.123   \n",
       "\n",
       "                               weighted_horizontal_poition  release_year  \\\n",
       "cvt_per_day                                         -0.302         0.046   \n",
       "weighted_categorical_position                       -0.084        -0.069   \n",
       "weighted_horizontal_poition                          1.000         0.027   \n",
       "release_year                                         0.027         1.000   \n",
       "imdb_votes                                          -0.221        -0.083   \n",
       "budget                                              -0.211        -0.040   \n",
       "boxoffice                                           -0.245        -0.128   \n",
       "imdb_rating                                         -0.162        -0.199   \n",
       "duration_in_mins                                    -0.102        -0.097   \n",
       "metacritic_score                                    -0.255        -0.167   \n",
       "star_category                                       -0.168        -0.198   \n",
       "\n",
       "                               imdb_votes  budget  boxoffice  imdb_rating  \\\n",
       "cvt_per_day                         0.298   0.316      0.312        0.059   \n",
       "weighted_categorical_position      -0.064  -0.090     -0.074       -0.116   \n",
       "weighted_horizontal_poition        -0.221  -0.211     -0.245       -0.162   \n",
       "release_year                       -0.083  -0.040     -0.128       -0.199   \n",
       "imdb_votes                          1.000   0.273      0.531        0.163   \n",
       "budget                              0.273   1.000      0.505        0.106   \n",
       "boxoffice                           0.531   0.505      1.000        0.164   \n",
       "imdb_rating                         0.163   0.106      0.164        1.000   \n",
       "duration_in_mins                    0.156   0.251      0.226        0.344   \n",
       "metacritic_score                    0.322   0.315      0.465        0.347   \n",
       "star_category                       0.225   0.322      0.322        0.192   \n",
       "\n",
       "                               duration_in_mins  metacritic_score  \\\n",
       "cvt_per_day                               0.152             0.249   \n",
       "weighted_categorical_position            -0.174            -0.044   \n",
       "weighted_horizontal_poition              -0.102            -0.255   \n",
       "release_year                             -0.097            -0.167   \n",
       "imdb_votes                                0.156             0.322   \n",
       "budget                                    0.251             0.315   \n",
       "boxoffice                                 0.226             0.465   \n",
       "imdb_rating                               0.344             0.347   \n",
       "duration_in_mins                          1.000             0.327   \n",
       "metacritic_score                          0.327             1.000   \n",
       "star_category                             0.309             0.452   \n",
       "\n",
       "                               star_category  \n",
       "cvt_per_day                            0.247  \n",
       "weighted_categorical_position         -0.123  \n",
       "weighted_horizontal_poition           -0.168  \n",
       "release_year                          -0.198  \n",
       "imdb_votes                             0.225  \n",
       "budget                                 0.322  \n",
       "boxoffice                              0.322  \n",
       "imdb_rating                            0.192  \n",
       "duration_in_mins                       0.309  \n",
       "metacritic_score                       0.452  \n",
       "star_category                          1.000  "
      ]
     },
     "execution_count": 30,
     "metadata": {},
     "output_type": "execute_result"
    }
   ],
   "source": [
    "tv_data_df.drop(['video_id'],axis=1).corr()"
   ]
  },
  {
   "cell_type": "raw",
   "metadata": {},
   "source": [
    "# Understand the categorical features"
   ]
  },
  {
   "cell_type": "code",
   "execution_count": null,
   "metadata": {},
   "outputs": [],
   "source": [
    "# 1.3.1 simple categorical features(import_id, awards)"
   ]
  },
  {
   "cell_type": "code",
   "execution_count": 31,
   "metadata": {},
   "outputs": [
    {
     "data": {
      "text/plain": [
       "<matplotlib.axes._subplots.AxesSubplot at 0x1a252e58d0>"
      ]
     },
     "execution_count": 31,
     "metadata": {},
     "output_type": "execute_result"
    },
    {
     "data": {
      "image/png": "[encoded data removed]",
      "text/plain": [
       "<Figure size 432x288 with 1 Axes>"
      ]
     },
     "metadata": {},
     "output_type": "display_data"
    }
   ],
   "source": [
    "sns.stripplot(x='import_id', y='cvt_per_day', data=tv_data_df, jitter=True)"
   ]
  },
  {
   "cell_type": "code",
   "execution_count": 32,
   "metadata": {},
   "outputs": [
    {
     "name": "stdout",
     "output_type": "stream",
     "text": [
      "other        2963\n",
      "lionsgate     677\n",
      "mgm           445\n",
      "paramount     141\n",
      "Name: import_id, dtype: int64\n"
     ]
    }
   ],
   "source": [
    "print(tv_data_df['import_id'].value_counts())"
   ]
  },
  {
   "cell_type": "code",
   "execution_count": 33,
   "metadata": {},
   "outputs": [
    {
     "data": {
      "text/plain": [
       "<matplotlib.axes._subplots.AxesSubplot at 0x1a24f3ad68>"
      ]
     },
     "execution_count": 33,
     "metadata": {},
     "output_type": "execute_result"
    },
    {
     "data": {
      "image/png": "[encoded data removed]",
      "text/plain": [
       "<Figure size 432x288 with 1 Axes>"
      ]
     },
     "metadata": {},
     "output_type": "display_data"
    }
   ],
   "source": [
    "sns.barplot(x='import_id', y='cvt_per_day', data=tv_data_df)"
   ]
  },
  {
   "cell_type": "code",
   "execution_count": 34,
   "metadata": {},
   "outputs": [
    {
     "data": {
      "text/plain": [
       "<matplotlib.axes._subplots.AxesSubplot at 0x1a253c1860>"
      ]
     },
     "execution_count": 34,
     "metadata": {},
     "output_type": "execute_result"
    },
    {
     "data": {
      "image/png": "[encoded data removed]",
      "text/plain": [
       "<Figure size 432x288 with 1 Axes>"
      ]
     },
     "metadata": {},
     "output_type": "display_data"
    }
   ],
   "source": [
    "sns.boxplot(x='import_id', y='cvt_per_day', data=tv_data_df)"
   ]
  },
  {
   "cell_type": "code",
   "execution_count": 35,
   "metadata": {},
   "outputs": [
    {
     "data": {
      "text/plain": [
       "<matplotlib.axes._subplots.AxesSubplot at 0x1a25651fd0>"
      ]
     },
     "execution_count": 35,
     "metadata": {},
     "output_type": "execute_result"
    },
    {
     "data": {
      "image/png": "[encoded data removed]",
      "text/plain": [
       "<Figure size 432x288 with 1 Axes>"
      ]
     },
     "metadata": {},
     "output_type": "display_data"
    }
   ],
   "source": [
    "sns.stripplot(x='mpaa', y='cvt_per_day', data=tv_data_df, jitter=True)"
   ]
  },
  {
   "cell_type": "code",
   "execution_count": 36,
   "metadata": {},
   "outputs": [
    {
     "data": {
      "text/plain": [
       "<matplotlib.axes._subplots.AxesSubplot at 0x1a252e5f28>"
      ]
     },
     "execution_count": 36,
     "metadata": {},
     "output_type": "execute_result"
    },
    {
     "data": {
      "image/png": "[encoded data removed]",
      "text/plain": [
       "<Figure size 432x288 with 1 Axes>"
      ]
     },
     "metadata": {},
     "output_type": "display_data"
    }
   ],
   "source": [
    "sns.barplot(x='mpaa', y='cvt_per_day', data=tv_data_df)"
   ]
  },
  {
   "cell_type": "code",
   "execution_count": 37,
   "metadata": {},
   "outputs": [
    {
     "name": "stdout",
     "output_type": "stream",
     "text": [
      "NotRated    2158\n",
      "R           1158\n",
      "PG-13        426\n",
      "PG           353\n",
      "G            125\n",
      "NC-17          6\n",
      "Name: mpaa, dtype: int64\n"
     ]
    }
   ],
   "source": [
    "print(tv_data_df['mpaa'].value_counts())"
   ]
  },
  {
   "cell_type": "raw",
   "metadata": {},
   "source": [
    "#1.3.2 Distribution of splited genres. some videos belong to more than 1 genre, the genre of each video is splited,\n",
    "this would help to emphasize the effect of each individual genre"
   ]
  },
  {
   "cell_type": "code",
   "execution_count": 19,
   "metadata": {},
   "outputs": [
    {
     "data": {
      "text/plain": [
       "<matplotlib.axes._subplots.AxesSubplot at 0x1a1b6d6710>"
      ]
     },
     "execution_count": 19,
     "metadata": {},
     "output_type": "execute_result"
    },
    {
     "data": {
      "image/png": "[encoded data removed]",
      "text/plain": [
       "<Figure size 432x288 with 1 Axes>"
      ]
     },
     "metadata": {},
     "output_type": "display_data"
    }
   ],
   "source": [
    "# generes explore, split the genre of each video\n",
    "gen_split = tv_data_df['genres'].str.get_dummies(sep=',').mul(1, axis=0).sum()\n",
    "gen_split.sort_values(ascending=False).plot.bar()"
   ]
  },
  {
   "cell_type": "raw",
   "metadata": {},
   "source": [
    "# 6 genres including Anime, Reality, Lifestyle, Adult, Holiday have low frequencies, therefore , during feature processing, they will be grouped together as: 'Misc_gen' in the feature 'genres'"
   ]
  },
  {
   "cell_type": "raw",
   "metadata": {},
   "source": [
    "# Distribution of release_year.\n",
    "the release year of video varies through a wide range, considering the popularity of a video usually decays over time,the release_year should be bucked based on the release_year range"
   ]
  },
  {
   "cell_type": "code",
   "execution_count": 20,
   "metadata": {},
   "outputs": [
    {
     "data": {
      "image/png": "[encoded data removed]",
      "text/plain": [
       "<Figure size 432x288 with 1 Axes>"
      ]
     },
     "metadata": {},
     "output_type": "display_data"
    },
    {
     "name": "stdout",
     "output_type": "stream",
     "text": [
      "count   4226.000\n",
      "mean    2001.057\n",
      "std       17.497\n",
      "min     1916.000\n",
      "10%     1974.000\n",
      "20%     1991.000\n",
      "30%     2001.000\n",
      "40%     2006.000\n",
      "50%     2008.000\n",
      "60%     2010.000\n",
      "70%     2012.000\n",
      "80%     2013.000\n",
      "90%     2014.000\n",
      "max     2017.000\n",
      "Name: release_year, dtype: float64\n"
     ]
    }
   ],
   "source": [
    "plt.figure(1)\n",
    "plt.hist(tv_data_df['release_year'].values, bins = range(1910, 2017, 1), alpha = 0.5, color='r', label = 'release_year', normed = True)\n",
    "plt.legend(loc ='upper left')\n",
    "plt.title('Historgrams of release_year before data processing')\n",
    "plt.xlabel('release_year')\n",
    "plt.ylabel('density')\n",
    "plt.show()\n",
    "\n",
    "print(tv_data_df['release_year'].describe(percentiles = [.1, .2, .3, .4,.5, .6, .7, .8, .9]))"
   ]
  },
  {
   "cell_type": "markdown",
   "metadata": {},
   "source": [
    "# Part2: Feature Prepprocessing"
   ]
  },
  {
   "cell_type": "raw",
   "metadata": {},
   "source": [
    "2.1 Categorical features There are 5 categorical features: import_id, mpaa, awards, genres, and release_year. There is no missing data in them. They can be converted into dummy/indicators.\n",
    "The first 3 have relatively small sub-types, they can be easily converted to dummies.\n",
    "The 'genres' have 27 different sub-types, 6 of them are rarely observed (refer to previous section). It's reasonable to group these 6 into 1. Note: a video may have more than one genre, in the feature preprocessing, all genres are handled individually.\n",
    "The release_year is bined into 10 buckets based on the year range between 1917 and 2017."
   ]
  },
  {
   "cell_type": "code",
   "execution_count": 21,
   "metadata": {},
   "outputs": [],
   "source": [
    "# Convert 3 Categorical variables into dummy variables\n",
    "d_import_id = pd.get_dummies(tv_data_df['import_id']).astype(np.int64)\n",
    "d_mpaa = pd.get_dummies(tv_data_df['mpaa']).astype(np.int64)\n",
    "d_awards = pd.get_dummies(tv_data_df['awards']).astype(np.int64)"
   ]
  },
  {
   "cell_type": "code",
   "execution_count": 22,
   "metadata": {},
   "outputs": [],
   "source": [
    "# Convert 'genres' into dummy variables\n",
    "d_genres = pd.DataFrame() \n",
    "for genre in ['Action', 'Adult', 'Adventure', 'Animation', 'Anime', 'Comedy', 'Crime', 'Documentary', 'Drama'\n",
    "          , 'Fantasy', 'Foreign/International', 'Holiday', 'Horror', 'Independent', 'Kids & Family', 'LGBT', \n",
    "          'Lifestyle', 'Music', 'Musicals','Mystery', 'Reality', 'Romance','Sci-Fi', 'Sport', 'Thriller', 'War', \n",
    "          'Western']:\n",
    "    gen_lst = []\n",
    "    for i in range(4226):        \n",
    "        if genre in tv_data_df['genres'][i]:\n",
    "            gen_lst.append(1)    \n",
    "        else: \n",
    "            gen_lst.append(0)  \n",
    "    d_genres[genre] = pd.Series(gen_lst).values\n",
    "    \n",
    "# combine 6 smallest genres into a new genre 'Misc_gen'. Use bitwise operation '|', then drop these 6 columns.\n",
    "d_genres['Misc_gen'] = d_genres['Anime']|d_genres['Reality']|d_genres['Lifestyle']|d_genres['Adult']|d_genres['LGBT']|d_genres['Holiday']\n",
    "d_genres.drop(['Anime', 'Reality','Lifestyle', 'Adult','LGBT','Holiday'], inplace=True, axis=1)"
   ]
  },
  {
   "cell_type": "code",
   "execution_count": 23,
   "metadata": {},
   "outputs": [],
   "source": [
    "# bin release_year and convert into dummies\n",
    "bin_year = [1916, 1974, 1991, 2001, 2006, 2008, 2010, 2012, 2013, 2014,2017]\n",
    "year_range = ['1916-1974', '1974-1991', '1991-2001', '2001-2006','2006-2008','2008-2010','2010-2012','2012-2013',\n",
    "              '2013-2014','2014-2017']\n",
    "year_bin = pd.cut(tv_data_df['release_year'], bin_year, labels=year_range)\n",
    "d_year = pd.get_dummies(year_bin).astype(np.int64)"
   ]
  },
  {
   "cell_type": "code",
   "execution_count": 24,
   "metadata": {},
   "outputs": [
    {
     "name": "stdout",
     "output_type": "stream",
     "text": [
      "(4226, 58)\n",
      "[]\n",
      "   video_id  cvt_per_day  weighted_categorical_position  \\\n",
      "0    385504   307127.606                              1   \n",
      "1    300175   270338.426                              1   \n",
      "2    361899   256165.867                              1   \n",
      "3    308314   196622.721                              3   \n",
      "4    307201   159841.652                              1   \n",
      "\n",
      "   weighted_horizontal_poition  imdb_votes    budget  boxoffice  imdb_rating  \\\n",
      "0                            3       69614  15000000   42930462        6.500   \n",
      "1                            3       46705  15000000    3301046        6.500   \n",
      "2                            3      197596  26000000   37397291        7.300   \n",
      "3                            4      356339  15000000   15700000        7.600   \n",
      "4                            3       46720  27220000    8551228        6.400   \n",
      "\n",
      "   duration_in_mins  metacritic_score    ...      1916-1974  1974-1991  \\\n",
      "0           112.301                51    ...              0          0   \n",
      "1            94.983                41    ...              0          0   \n",
      "2           115.764                58    ...              0          0   \n",
      "3           130.704                94    ...              0          0   \n",
      "4           105.546                37    ...              0          0   \n",
      "\n",
      "   1991-2001  2001-2006  2006-2008  2008-2010  2010-2012  2012-2013  \\\n",
      "0          0          0          0          0          0          1   \n",
      "1          0          0          0          0          0          1   \n",
      "2          0          0          0          0          1          0   \n",
      "3          0          0          1          0          0          0   \n",
      "4          0          0          0          0          0          1   \n",
      "\n",
      "   2013-2014  2014-2017  \n",
      "0          0          0  \n",
      "1          0          0  \n",
      "2          0          0  \n",
      "3          0          0  \n",
      "4          0          0  \n",
      "\n",
      "[5 rows x 58 columns]\n"
     ]
    }
   ],
   "source": [
    "# new dataframe, drop the previous categorical features, add new dummy variables, check for null\n",
    "TV_temp = tv_data_df.drop(['import_id', 'mpaa','awards','genres', 'release_year'], axis=1)\n",
    "newTV = pd.concat([TV_temp, d_import_id, d_mpaa, d_awards, d_genres, d_year], axis=1)\n",
    "print(newTV.shape)\n",
    "print(pd.isnull(newTV).any(1).nonzero()[0])\n",
    "print(newTV.head())\n",
    "newTV_0 = newTV.copy() # a copy of newTV"
   ]
  },
  {
   "cell_type": "raw",
   "metadata": {},
   "source": [
    "Feature space holds 4226 observations and 58 features in total.\n",
    "There is NO null data. newTV_0 is kepted as the raw dataframe before any further feature processing, e.g. replace 0 with null, missing data fill etc."
   ]
  },
  {
   "cell_type": "raw",
   "metadata": {},
   "source": [
    "2.2 Handling of missing data Among the 10 numerical features (not include video_id), 4 features have over 25% of missing values (shown as '0', which is not possible in reality): budget, boxoffice, metacritic_score, star_category. 2 features have less than 10% of missing data: imdb_votes, imdb_rating.\n",
    "There are 3242 samples have at least one missing data."
   ]
  },
  {
   "cell_type": "code",
   "execution_count": 25,
   "metadata": {},
   "outputs": [
    {
     "name": "stdout",
     "output_type": "stream",
     "text": [
      "video_id                            0\n",
      "cvt_per_day                         0\n",
      "weighted_categorical_position       0\n",
      "weighted_horizontal_poition         0\n",
      "imdb_votes                        344\n",
      "budget                           2454\n",
      "boxoffice                        3194\n",
      "imdb_rating                       344\n",
      "duration_in_mins                    0\n",
      "metacritic_score                 3012\n",
      "star_category                    1846\n",
      "lionsgate                           0\n",
      "mgm                                 0\n",
      "other                               0\n",
      "paramount                           0\n",
      "G                                   0\n",
      "NC-17                               0\n",
      "NotRated                            0\n",
      "PG                                  0\n",
      "PG-13                               0\n",
      "R                                   0\n",
      "BAFTA                               0\n",
      "Golden Globe                        0\n",
      "Oscar                               0\n",
      "no award                            0\n",
      "other award                         0\n",
      "Action                              0\n",
      "Adventure                           0\n",
      "Animation                           0\n",
      "Comedy                              0\n",
      "Crime                               0\n",
      "Documentary                         0\n",
      "Drama                               0\n",
      "Fantasy                             0\n",
      "Foreign/International               0\n",
      "Horror                              0\n",
      "Independent                         0\n",
      "Kids & Family                       0\n",
      "Music                               0\n",
      "Musicals                            0\n",
      "Mystery                             0\n",
      "Romance                             0\n",
      "Sci-Fi                              0\n",
      "Sport                               0\n",
      "Thriller                            0\n",
      "War                                 0\n",
      "Western                             0\n",
      "Misc_gen                            0\n",
      "1916-1974                           0\n",
      "1974-1991                           0\n",
      "1991-2001                           0\n",
      "2001-2006                           0\n",
      "2006-2008                           0\n",
      "2008-2010                           0\n",
      "2010-2012                           0\n",
      "2012-2013                           0\n",
      "2013-2014                           0\n",
      "2014-2017                           0\n",
      "dtype: int64\n",
      "videos having at least one null:  3242\n"
     ]
    }
   ],
   "source": [
    "# mark zero values as NaN\n",
    "newTV[['budget','boxoffice','metacritic_score', 'star_category','imdb_votes', 'imdb_rating']] = newTV[['budget','boxoffice','metacritic_score', 'star_category','imdb_votes', 'imdb_rating']].replace(0, np.nan)\n",
    "\n",
    "# count the number of NaN values in each column\n",
    "print(newTV.isnull().sum())\n",
    "\n",
    "#count the number videos who have at least one missing data \n",
    "print('videos having at least one null: ', newTV.isnull().any(axis=1).sum())"
   ]
  },
  {
   "cell_type": "raw",
   "metadata": {},
   "source": [
    "2.2.1 Filling missing data with mean value\n",
    "For imdb_votes and imdb_rating, they always show 'null' together, which is reasonable, since when a imdb_votes is missing, the imdb_rating is mostly also missing. For all 6 features with missiong data, the 1st attempt is to fill in with their mean value."
   ]
  },
  {
   "cell_type": "code",
   "execution_count": 26,
   "metadata": {},
   "outputs": [],
   "source": [
    "#fill missing values with the column mean\n",
    "newTV_i1 = newTV.copy()\n",
    "newTV_i1['budget'].fillna(newTV_i1['budget'].mean(), inplace=True)\n",
    "newTV_i1['boxoffice'].fillna(newTV_i1['boxoffice'].mean(), inplace=True)\n",
    "newTV_i1['metacritic_score'].fillna(newTV_i1['metacritic_score'].mean(), inplace=True)\n",
    "newTV_i1['star_category'].fillna(newTV_i1['star_category'].mean(), inplace=True)\n",
    "newTV_i1['imdb_votes'].fillna(newTV_i1['imdb_votes'].mean(), inplace=True)\n",
    "newTV_i1['imdb_rating'].fillna(newTV_i1['imdb_rating'].mean(), inplace=True)"
   ]
  },
  {
   "cell_type": "raw",
   "metadata": {},
   "source": [
    "newTV_i1 have the feature processing as: fill the missing data in budget, boxoffice, metacritic_score, star_category, imdb_votes, imdb_rating with mean. It will be tested in the upcoming models."
   ]
  },
  {
   "cell_type": "raw",
   "metadata": {},
   "source": [
    "2.3 Feature scaling\n",
    "The impact of different scaling methods on the model performance is small. In the following model training and selections, the standard scaling (sc) data is used."
   ]
  },
  {
   "cell_type": "code",
   "execution_count": 27,
   "metadata": {},
   "outputs": [
    {
     "data": {
      "text/html": [
       "<div>\n",
       "<style scoped>\n",
       "    .dataframe tbody tr th:only-of-type {\n",
       "        vertical-align: middle;\n",
       "    }\n",
       "\n",
       "    .dataframe tbody tr th {\n",
       "        vertical-align: top;\n",
       "    }\n",
       "\n",
       "    .dataframe thead th {\n",
       "        text-align: right;\n",
       "    }\n",
       "</style>\n",
       "<table border=\"1\" class=\"dataframe\">\n",
       "  <thead>\n",
       "    <tr style=\"text-align: right;\">\n",
       "      <th></th>\n",
       "      <th>video_id</th>\n",
       "      <th>cvt_per_day</th>\n",
       "      <th>weighted_categorical_position</th>\n",
       "      <th>weighted_horizontal_poition</th>\n",
       "      <th>imdb_votes</th>\n",
       "      <th>budget</th>\n",
       "      <th>boxoffice</th>\n",
       "      <th>imdb_rating</th>\n",
       "      <th>duration_in_mins</th>\n",
       "      <th>metacritic_score</th>\n",
       "      <th>...</th>\n",
       "      <th>1916-1974</th>\n",
       "      <th>1974-1991</th>\n",
       "      <th>1991-2001</th>\n",
       "      <th>2001-2006</th>\n",
       "      <th>2006-2008</th>\n",
       "      <th>2008-2010</th>\n",
       "      <th>2010-2012</th>\n",
       "      <th>2012-2013</th>\n",
       "      <th>2013-2014</th>\n",
       "      <th>2014-2017</th>\n",
       "    </tr>\n",
       "  </thead>\n",
       "  <tbody>\n",
       "    <tr>\n",
       "      <th>0</th>\n",
       "      <td>385504</td>\n",
       "      <td>307127.606</td>\n",
       "      <td>-1.106</td>\n",
       "      <td>-2.116</td>\n",
       "      <td>1.984</td>\n",
       "      <td>1.470</td>\n",
       "      <td>4.696</td>\n",
       "      <td>0.542</td>\n",
       "      <td>1.079</td>\n",
       "      <td>-0.630</td>\n",
       "      <td>...</td>\n",
       "      <td>0</td>\n",
       "      <td>0</td>\n",
       "      <td>0</td>\n",
       "      <td>0</td>\n",
       "      <td>0</td>\n",
       "      <td>0</td>\n",
       "      <td>0</td>\n",
       "      <td>1</td>\n",
       "      <td>0</td>\n",
       "      <td>0</td>\n",
       "    </tr>\n",
       "    <tr>\n",
       "      <th>1</th>\n",
       "      <td>300175</td>\n",
       "      <td>270338.426</td>\n",
       "      <td>-1.106</td>\n",
       "      <td>-2.116</td>\n",
       "      <td>1.258</td>\n",
       "      <td>1.470</td>\n",
       "      <td>-1.022</td>\n",
       "      <td>0.542</td>\n",
       "      <td>0.257</td>\n",
       "      <td>-1.997</td>\n",
       "      <td>...</td>\n",
       "      <td>0</td>\n",
       "      <td>0</td>\n",
       "      <td>0</td>\n",
       "      <td>0</td>\n",
       "      <td>0</td>\n",
       "      <td>0</td>\n",
       "      <td>0</td>\n",
       "      <td>1</td>\n",
       "      <td>0</td>\n",
       "      <td>0</td>\n",
       "    </tr>\n",
       "    <tr>\n",
       "      <th>2</th>\n",
       "      <td>361899</td>\n",
       "      <td>256165.867</td>\n",
       "      <td>-1.106</td>\n",
       "      <td>-2.116</td>\n",
       "      <td>6.043</td>\n",
       "      <td>3.108</td>\n",
       "      <td>3.898</td>\n",
       "      <td>1.100</td>\n",
       "      <td>1.243</td>\n",
       "      <td>0.327</td>\n",
       "      <td>...</td>\n",
       "      <td>0</td>\n",
       "      <td>0</td>\n",
       "      <td>0</td>\n",
       "      <td>0</td>\n",
       "      <td>0</td>\n",
       "      <td>0</td>\n",
       "      <td>1</td>\n",
       "      <td>0</td>\n",
       "      <td>0</td>\n",
       "      <td>0</td>\n",
       "    </tr>\n",
       "    <tr>\n",
       "      <th>3</th>\n",
       "      <td>308314</td>\n",
       "      <td>196622.721</td>\n",
       "      <td>-0.780</td>\n",
       "      <td>-2.032</td>\n",
       "      <td>11.077</td>\n",
       "      <td>1.470</td>\n",
       "      <td>0.767</td>\n",
       "      <td>1.309</td>\n",
       "      <td>1.952</td>\n",
       "      <td>5.250</td>\n",
       "      <td>...</td>\n",
       "      <td>0</td>\n",
       "      <td>0</td>\n",
       "      <td>0</td>\n",
       "      <td>0</td>\n",
       "      <td>1</td>\n",
       "      <td>0</td>\n",
       "      <td>0</td>\n",
       "      <td>0</td>\n",
       "      <td>0</td>\n",
       "      <td>0</td>\n",
       "    </tr>\n",
       "    <tr>\n",
       "      <th>4</th>\n",
       "      <td>307201</td>\n",
       "      <td>159841.652</td>\n",
       "      <td>-1.106</td>\n",
       "      <td>-2.116</td>\n",
       "      <td>1.258</td>\n",
       "      <td>3.290</td>\n",
       "      <td>-0.265</td>\n",
       "      <td>0.472</td>\n",
       "      <td>0.758</td>\n",
       "      <td>-2.544</td>\n",
       "      <td>...</td>\n",
       "      <td>0</td>\n",
       "      <td>0</td>\n",
       "      <td>0</td>\n",
       "      <td>0</td>\n",
       "      <td>0</td>\n",
       "      <td>0</td>\n",
       "      <td>0</td>\n",
       "      <td>1</td>\n",
       "      <td>0</td>\n",
       "      <td>0</td>\n",
       "    </tr>\n",
       "  </tbody>\n",
       "</table>\n",
       "<p>5 rows × 58 columns</p>\n",
       "</div>"
      ],
      "text/plain": [
       "   video_id  cvt_per_day  weighted_categorical_position  \\\n",
       "0    385504   307127.606                         -1.106   \n",
       "1    300175   270338.426                         -1.106   \n",
       "2    361899   256165.867                         -1.106   \n",
       "3    308314   196622.721                         -0.780   \n",
       "4    307201   159841.652                         -1.106   \n",
       "\n",
       "   weighted_horizontal_poition  imdb_votes  budget  boxoffice  imdb_rating  \\\n",
       "0                       -2.116       1.984   1.470      4.696        0.542   \n",
       "1                       -2.116       1.258   1.470     -1.022        0.542   \n",
       "2                       -2.116       6.043   3.108      3.898        1.100   \n",
       "3                       -2.032      11.077   1.470      0.767        1.309   \n",
       "4                       -2.116       1.258   3.290     -0.265        0.472   \n",
       "\n",
       "   duration_in_mins  metacritic_score    ...      1916-1974  1974-1991  \\\n",
       "0             1.079            -0.630    ...              0          0   \n",
       "1             0.257            -1.997    ...              0          0   \n",
       "2             1.243             0.327    ...              0          0   \n",
       "3             1.952             5.250    ...              0          0   \n",
       "4             0.758            -2.544    ...              0          0   \n",
       "\n",
       "   1991-2001  2001-2006  2006-2008  2008-2010  2010-2012  2012-2013  \\\n",
       "0          0          0          0          0          0          1   \n",
       "1          0          0          0          0          0          1   \n",
       "2          0          0          0          0          1          0   \n",
       "3          0          0          1          0          0          0   \n",
       "4          0          0          0          0          0          1   \n",
       "\n",
       "   2013-2014  2014-2017  \n",
       "0          0          0  \n",
       "1          0          0  \n",
       "2          0          0  \n",
       "3          0          0  \n",
       "4          0          0  \n",
       "\n",
       "[5 rows x 58 columns]"
      ]
     },
     "execution_count": 27,
     "metadata": {},
     "output_type": "execute_result"
    }
   ],
   "source": [
    "#Standard scaling\n",
    "scale_lst = ['weighted_categorical_position', 'weighted_horizontal_poition', 'budget','boxoffice', \n",
    "             'imdb_votes','imdb_rating','duration_in_mins', 'metacritic_score','star_category']\n",
    "newTV_sc = newTV_i1.copy()\n",
    "\n",
    "sc_scale = preprocessing.StandardScaler().fit(newTV_sc[scale_lst])\n",
    "newTV_sc[scale_lst] = sc_scale.transform(newTV_sc[scale_lst])\n",
    "\n",
    "newTV_sc.head()"
   ]
  },
  {
   "cell_type": "code",
   "execution_count": 28,
   "metadata": {},
   "outputs": [],
   "source": [
    "# MinMax scaling\n",
    "newTV_mm = newTV_i1.copy()\n",
    "mm_scale = preprocessing.MinMaxScaler().fit(newTV_mm[scale_lst])\n",
    "newTV_mm[scale_lst] = mm_scale.transform(newTV_mm[scale_lst])"
   ]
  },
  {
   "cell_type": "code",
   "execution_count": null,
   "metadata": {},
   "outputs": [],
   "source": [
    "# Robust scaling\n",
    "newTV_rs = newTV_i1.copy()\n",
    "rs_scale = preprocessing.RobustScaler().fit(newTV_mm[scale_lst])\n",
    "newTV_rs[scale_lst] = rs_scale.transform(newTV_rs[scale_lst])"
   ]
  },
  {
   "cell_type": "markdown",
   "metadata": {},
   "source": [
    "# Part3: Model Traning"
   ]
  },
  {
   "cell_type": "raw",
   "metadata": {},
   "source": [
    "80% of the samples will be used to train all the models, and 20% is reserved for test the models in next section."
   ]
  },
  {
   "cell_type": "code",
   "execution_count": 30,
   "metadata": {},
   "outputs": [],
   "source": [
    "# The 20% test data will kept aside, they won't be seen by the models until final test/comparison.\n",
    "# Splite data into training and testing\n",
    "from sklearn import model_selection\n",
    "\n",
    "model_train, model_test = model_selection.train_test_split(newTV_sc, test_size=0.20, random_state = 3)\n",
    "model_train_x = model_train.drop(['video_id', 'cvt_per_day'], axis = 1)\n",
    "model_test_x = model_test.drop(['video_id', 'cvt_per_day'], axis = 1)\n",
    "model_train_y = model_train['cvt_per_day']\n",
    "model_test_y = model_test['cvt_per_day']"
   ]
  },
  {
   "cell_type": "raw",
   "metadata": {},
   "source": [
    "3.1 Linear models"
   ]
  },
  {
   "cell_type": "raw",
   "metadata": {},
   "source": [
    "3.1.1 Lasso linear regression"
   ]
  },
  {
   "cell_type": "raw",
   "metadata": {},
   "source": [
    "1) All featuers are linear"
   ]
  },
  {
   "cell_type": "code",
   "execution_count": 31,
   "metadata": {},
   "outputs": [
    {
     "data": {
      "image/png": "[encoded data removed]",
      "text/plain": [
       "<Figure size 432x288 with 1 Axes>"
      ]
     },
     "metadata": {},
     "output_type": "display_data"
    },
    {
     "name": "stdout",
     "output_type": "stream",
     "text": [
      "The optimaized alpha and score of Lasso linear is:  420.23278640585664 0.20627059985480622\n"
     ]
    }
   ],
   "source": [
    "from sklearn.model_selection import train_test_split\n",
    "from sklearn import linear_model\n",
    "from sklearn.linear_model import LinearRegression, Lasso, Ridge\n",
    "from sklearn.metrics import mean_squared_error, r2_score\n",
    "from math import sqrt\n",
    "lr_train, lr_validate = train_test_split(model_train, test_size=0.2, random_state = 0)\n",
    "\n",
    "lr_train_x = lr_train.drop(['video_id', 'cvt_per_day'], axis = 1)\n",
    "lr_validate_x = lr_validate.drop(['video_id', 'cvt_per_day'], axis = 1)\n",
    "lr_train_y = lr_train['cvt_per_day']\n",
    "lr_validate_y = lr_validate['cvt_per_day']\n",
    "\n",
    "alphas = np.logspace (-0.3, 3, num=150)\n",
    "# alphas= [0.000000001]\n",
    "scores = np.empty_like(alphas)\n",
    "opt_a = float('-inf')\n",
    "max_score = float('-inf')\n",
    "for i, a in enumerate(alphas):\n",
    "    lasso = linear_model.Lasso()\n",
    "    lasso.set_params(alpha = a)\n",
    "    lasso.fit(lr_train_x, lr_train_y)\n",
    "    scores[i] = lasso.score(lr_validate_x, lr_validate_y)\n",
    "    if scores[i] > max_score:\n",
    "        max_score = scores[i]\n",
    "        opt_a = a\n",
    "        lasso_save = lasso\n",
    "plt.plot(alphas, scores, color='b', linestyle='dashed', marker='o',markerfacecolor='blue', markersize=6)\n",
    "plt.xlabel('alpha')\n",
    "plt.ylabel('score')\n",
    "plt.grid(True)\n",
    "plt.title('score vs. alpha')\n",
    "plt.show()\n",
    "print('The optimaized alpha and score of Lasso linear is: ', opt_a, max_score)"
   ]
  },
  {
   "cell_type": "code",
   "execution_count": 32,
   "metadata": {},
   "outputs": [
    {
     "data": {
      "text/plain": [
       "Lasso(alpha=420.23278640585664, copy_X=True, fit_intercept=True, max_iter=1000,\n",
       "      normalize=False, positive=False, precompute=False, random_state=None,\n",
       "      selection='cyclic', tol=0.0001, warm_start=False)"
      ]
     },
     "execution_count": 32,
     "metadata": {},
     "output_type": "execute_result"
    }
   ],
   "source": [
    "# combine the validate data and training data, use the optimal alpha, re-train the model\n",
    "lasso_f = linear_model.Lasso()\n",
    "lasso_f.set_params(alpha = opt_a)\n",
    "lasso_f.fit(model_train_x, model_train_y)"
   ]
  },
  {
   "cell_type": "raw",
   "metadata": {},
   "source": [
    "2)Polynomial features"
   ]
  },
  {
   "cell_type": "code",
   "execution_count": 35,
   "metadata": {},
   "outputs": [],
   "source": [
    "from sklearn.preprocessing import PolynomialFeatures\n",
    "from sklearn import linear_model\n",
    "from sklearn import model_selection\n",
    "poly = PolynomialFeatures(2)\n",
    "\n",
    "lr_train, lr_validate = train_test_split(model_train, test_size=0.2, random_state = 0)\n",
    "\n",
    "lr_train_x = lr_train.drop(['video_id', 'cvt_per_day'], axis = 1)\n",
    "lr_validate_x = lr_validate.drop(['video_id', 'cvt_per_day'], axis = 1)\n",
    "\n",
    "lr_train_xp = poly.fit_transform(lr_train_x)\n",
    "lr_validate_xp = poly.fit_transform(lr_validate_x)\n",
    "lr_train_y = lr_train['cvt_per_day']\n",
    "lr_validate_y = lr_validate['cvt_per_day']"
   ]
  },
  {
   "cell_type": "code",
   "execution_count": 36,
   "metadata": {},
   "outputs": [],
   "source": [
    "# lr_train_xp = pd.DataFrame(data=lr_train_xp, index=data[:], columns=data[0,1:]) \n",
    "\n",
    "alphas = np.logspace (-2.6, 2.5, num=20)\n",
    "# alphas= [1]\n",
    "scores = np.empty_like(alphas)\n",
    "opt_a = float('-inf')\n",
    "max_score = float('-inf')"
   ]
  },
  {
   "cell_type": "code",
   "execution_count": 37,
   "metadata": {},
   "outputs": [
    {
     "data": {
      "image/png": "[encoded data removed]",
      "text/plain": [
       "<Figure size 432x288 with 1 Axes>"
      ]
     },
     "metadata": {},
     "output_type": "display_data"
    },
    {
     "name": "stdout",
     "output_type": "stream",
     "text": [
      "The optimaized alpha and score of Lasso polynomial is:  49.51500669473131 0.2765004785703914\n"
     ]
    }
   ],
   "source": [
    "for i, a in enumerate(alphas):\n",
    "    lasso = linear_model.Lasso()\n",
    "    lasso.set_params(alpha = a)\n",
    "    lasso.fit(lr_train_xp, lr_train_y)\n",
    "    scores[i] = lasso.score(lr_validate_xp, lr_validate_y)\n",
    "    if scores[i] > max_score:\n",
    "        max_score = scores[i]\n",
    "        opt_a = a\n",
    "        lasso_save = lasso\n",
    "plt.plot(alphas, scores, color='b', linestyle='dashed', marker='o',markerfacecolor='blue', markersize=6)\n",
    "plt.xlabel('alpha')\n",
    "plt.ylabel('score')\n",
    "plt.grid(True)\n",
    "plt.title('score vs. alpha')\n",
    "plt.show()\n",
    "print('The optimaized alpha and score of Lasso polynomial is: ', opt_a, max_score)"
   ]
  },
  {
   "cell_type": "code",
   "execution_count": 38,
   "metadata": {},
   "outputs": [
    {
     "data": {
      "text/plain": [
       "Lasso(alpha=49.51500669473131, copy_X=True, fit_intercept=True, max_iter=1000,\n",
       "      normalize=False, positive=False, precompute=False, random_state=None,\n",
       "      selection='cyclic', tol=0.0001, warm_start=False)"
      ]
     },
     "execution_count": 38,
     "metadata": {},
     "output_type": "execute_result"
    }
   ],
   "source": [
    "# combine the validate data and training data, use the optimal alpha, re-train the model   ???????????\n",
    "lr_train_xp1 = poly.fit_transform(model_train_x)\n",
    "\n",
    "lasso_fp = linear_model.Lasso()\n",
    "lasso_fp.set_params(alpha = opt_a)\n",
    "lasso_fp.fit(lr_train_xp1, model_train_y)"
   ]
  },
  {
   "cell_type": "raw",
   "metadata": {},
   "source": [
    "3.1.2 Ridge linear regression"
   ]
  },
  {
   "cell_type": "raw",
   "metadata": {},
   "source": [
    "1) All featuers are linear"
   ]
  },
  {
   "cell_type": "code",
   "execution_count": 39,
   "metadata": {},
   "outputs": [
    {
     "data": {
      "image/png": "[encoded data removed]",
      "text/plain": [
       "<Figure size 432x288 with 1 Axes>"
      ]
     },
     "metadata": {},
     "output_type": "display_data"
    },
    {
     "name": "stdout",
     "output_type": "stream",
     "text": [
      "0.2137618035438769 447.720223008213\n"
     ]
    }
   ],
   "source": [
    "# Use the same training data set as Lasso (linear features)\n",
    "lr_train, lr_validate = train_test_split(model_train, test_size=0.2, random_state = 0)\n",
    "alphas = np.logspace (-10, 3, num=150)\n",
    "# alphas= [0.000000001]\n",
    "scores = np.empty_like(alphas)\n",
    "opt_a = float('-inf')\n",
    "max_score = float('-inf')\n",
    "for i, a in enumerate(alphas):\n",
    "    ridge = linear_model.Ridge()\n",
    "    ridge.set_params(alpha = a)\n",
    "    ridge.fit(lr_train_x, lr_train_y)\n",
    "    scores[i] = ridge.score(lr_validate_x, lr_validate_y)\n",
    "    if scores[i] > max_score:\n",
    "        max_score = scores[i]\n",
    "        opt_a = a\n",
    "        ridge_save = ridge\n",
    "plt.plot(alphas, scores, color='r', linestyle='dashed', marker='o',markerfacecolor='r', markersize=6)\n",
    "plt.xlabel('alpha')\n",
    "plt.ylabel('score')\n",
    "plt.grid(True)\n",
    "plt.title('score vs. alpha')\n",
    "plt.show()\n",
    "print(max_score, opt_a)"
   ]
  },
  {
   "cell_type": "code",
   "execution_count": 40,
   "metadata": {},
   "outputs": [
    {
     "data": {
      "text/plain": [
       "Ridge(alpha=447.720223008213, copy_X=True, fit_intercept=True, max_iter=None,\n",
       "      normalize=False, random_state=None, solver='auto', tol=0.001)"
      ]
     },
     "execution_count": 40,
     "metadata": {},
     "output_type": "execute_result"
    }
   ],
   "source": [
    "# add the 20% validate data, use the optimal alpha, re-train the model\n",
    "\n",
    "ridge_f = linear_model.Ridge()\n",
    "ridge_f.set_params(alpha = opt_a)\n",
    "ridge_f.fit(model_train_x, model_train_y)\n",
    "\n",
    "# ridge_f is the Ridge model (linear feature), to be tested with test data."
   ]
  },
  {
   "cell_type": "raw",
   "metadata": {},
   "source": [
    "2) Polynomial featuers"
   ]
  },
  {
   "cell_type": "code",
   "execution_count": 41,
   "metadata": {},
   "outputs": [],
   "source": [
    "from sklearn.preprocessing import PolynomialFeatures\n",
    "poly = PolynomialFeatures(2)\n",
    "\n",
    "lr_train, lr_validate = train_test_split(model_train, test_size=0.2, random_state = 0)\n",
    "lr_train, lr_validate = train_test_split(model_train, test_size=0.15, random_state = 0)\n",
    "\n",
    "lr_train_x = lr_train.drop(['video_id', 'cvt_per_day'], axis = 1)\n",
    "lr_validate_x = lr_validate.drop(['video_id', 'cvt_per_day'], axis = 1)\n",
    "lr_train_y = lr_train['cvt_per_day']\n",
    "lr_validate_y = lr_validate['cvt_per_day']\n",
    "\n",
    "lr_train_xp = poly.fit_transform(lr_train_x)\n",
    "lr_validate_xp = poly.fit_transform(lr_validate_x)\n",
    "\n",
    "alphas = np.logspace (-2, 2, num=20)\n",
    "# alphas= [1]\n",
    "scores = np.empty_like(alphas)\n",
    "opt_a = float('-inf')\n",
    "max_score = float('-inf')\n",
    "for i, a in enumerate(alphas):\n",
    "    ridge = linear_model.Ridge()\n",
    "    ridge.set_params(alpha = a)\n",
    "    ridge.fit(lr_train_xp, lr_train_y)\n",
    "    scores[i] = ridge.score(lr_validate_xp, lr_validate_y)\n",
    "    if scores[i] > max_score:\n",
    "        max_score = scores[i]\n",
    "        opt_a = a\n",
    "        ridge_save = ridge"
   ]
  },
  {
   "cell_type": "code",
   "execution_count": 42,
   "metadata": {},
   "outputs": [
    {
     "data": {
      "image/png": "[encoded data removed]",
      "text/plain": [
       "<Figure size 432x288 with 1 Axes>"
      ]
     },
     "metadata": {},
     "output_type": "display_data"
    },
    {
     "name": "stdout",
     "output_type": "stream",
     "text": [
      "0.10990433163708746 100.0\n"
     ]
    }
   ],
   "source": [
    "plt.plot(alphas, scores, color='brown', linestyle='dashed', marker='o',markerfacecolor='g', markersize=6)\n",
    "plt.xlabel('alpha')\n",
    "plt.ylabel('score')\n",
    "plt.grid(True)\n",
    "plt.title('score vs. alpha')\n",
    "plt.show()\n",
    "print(max_score, opt_a)"
   ]
  },
  {
   "cell_type": "code",
   "execution_count": 43,
   "metadata": {},
   "outputs": [
    {
     "data": {
      "text/plain": [
       "Ridge(alpha=100.0, copy_X=True, fit_intercept=True, max_iter=None,\n",
       "      normalize=False, random_state=None, solver='auto', tol=0.001)"
      ]
     },
     "execution_count": 43,
     "metadata": {},
     "output_type": "execute_result"
    }
   ],
   "source": [
    "# add the 20% validate data, use the optimal alpha, re-train the model\n",
    "lr_train_xp1 = poly.fit_transform(model_train_x)\n",
    "\n",
    "ridge_fp = linear_model.Ridge()\n",
    "ridge_fp.set_params(alpha = opt_a)\n",
    "ridge_fp.fit(lr_train_xp1, model_train_y)"
   ]
  },
  {
   "cell_type": "raw",
   "metadata": {},
   "source": [
    "# 3.2:  Non-linear models"
   ]
  },
  {
   "cell_type": "raw",
   "metadata": {},
   "source": [
    "Random forest with Gridsearch cross-validation is used. The 'mean_scores' is used to narrow down the paramenters of\n",
    "n_estimator (number of trees in the forest) and Max_depth (maximum depth of the tree)."
   ]
  },
  {
   "cell_type": "code",
   "execution_count": 45,
   "metadata": {},
   "outputs": [],
   "source": [
    "from sklearn.ensemble import RandomForestRegressor\n",
    "from sklearn.model_selection import GridSearchCV\n",
    "from sklearn.model_selection import cross_validate\n",
    "from sklearn.model_selection import GridSearchCV\n",
    "rf_train, rf_test = train_test_split(model_train, test_size=0.2, random_state = 0)\n",
    "\n",
    "rf_train_x = rf_train.drop(['video_id', 'cvt_per_day'], axis = 1)\n",
    "rf_test_x = rf_test.drop(['video_id', 'cvt_per_day'], axis = 1)\n",
    "rf_train_y = rf_train['cvt_per_day']\n",
    "rf_test_y = rf_test['cvt_per_day']"
   ]
  },
  {
   "cell_type": "code",
   "execution_count": 46,
   "metadata": {},
   "outputs": [],
   "source": [
    "param_grid = {\n",
    "                 'n_estimators': [54, 55, 56, 57, 58, 59, 60, 62],\n",
    "                 'max_depth': [12, 13, 14, 15, 16, 17]\n",
    "             }"
   ]
  },
  {
   "cell_type": "code",
   "execution_count": 47,
   "metadata": {},
   "outputs": [
    {
     "data": {
      "text/plain": [
       "GridSearchCV(cv=5, error_score='raise-deprecating',\n",
       "             estimator=RandomForestRegressor(bootstrap=True, criterion='mse',\n",
       "                                             max_depth=None,\n",
       "                                             max_features='sqrt',\n",
       "                                             max_leaf_nodes=None,\n",
       "                                             min_impurity_decrease=0.0,\n",
       "                                             min_impurity_split=None,\n",
       "                                             min_samples_leaf=1,\n",
       "                                             min_samples_split=2,\n",
       "                                             min_weight_fraction_leaf=0.0,\n",
       "                                             n_estimators='warn', n_jobs=None,\n",
       "                                             oob_score=False, random_state=2,\n",
       "                                             verbose=0, warm_start=False),\n",
       "             iid='warn', n_jobs=None,\n",
       "             param_grid={'max_depth': [12, 13, 14, 15, 16, 17],\n",
       "                         'n_estimators': [54, 55, 56, 57, 58, 59, 60, 62]},\n",
       "             pre_dispatch='2*n_jobs', refit=True, return_train_score=False,\n",
       "             scoring=None, verbose=0)"
      ]
     },
     "execution_count": 47,
     "metadata": {},
     "output_type": "execute_result"
    }
   ],
   "source": [
    "rf = RandomForestRegressor(random_state=2, max_features = 'sqrt')\n",
    "grid_rf = GridSearchCV(rf, param_grid, cv=5)\n",
    "grid_rf.fit(rf_train_x, rf_train_y)"
   ]
  },
  {
   "cell_type": "code",
   "execution_count": 48,
   "metadata": {},
   "outputs": [
    {
     "data": {
      "text/plain": [
       "{'mean_fit_time': array([0.10477486, 0.10696168, 0.1091742 , 0.10885758, 0.11189585,\n",
       "        0.11468282, 0.1157763 , 0.11914697, 0.1106482 , 0.11286783,\n",
       "        0.1157608 , 0.11891284, 0.12161841, 0.12395558, 0.12622952,\n",
       "        0.13053675, 0.12257905, 0.12290235, 0.12392278, 0.12658644,\n",
       "        0.13115444, 0.12806382, 0.1309175 , 0.1322865 , 0.1230617 ,\n",
       "        0.12556667, 0.12745256, 0.13015661, 0.1326333 , 0.13917584,\n",
       "        0.14322567, 0.1434298 , 0.12957659, 0.13142934, 0.13427324,\n",
       "        0.13778067, 0.13859825, 0.14275966, 0.14606795, 0.14851923,\n",
       "        0.13576808, 0.13937168, 0.14049177, 0.14359503, 0.14524603,\n",
       "        0.14735579, 0.1505661 , 0.15407958]),\n",
       " 'std_fit_time': array([0.00678076, 0.00223518, 0.00210933, 0.00151011, 0.00188694,\n",
       "        0.00122157, 0.00104871, 0.00215257, 0.00213464, 0.00232116,\n",
       "        0.00144795, 0.00511408, 0.00178431, 0.00307978, 0.00208902,\n",
       "        0.00144421, 0.0044058 , 0.00157618, 0.00177208, 0.00119216,\n",
       "        0.00860975, 0.00138269, 0.00114857, 0.00041401, 0.0010031 ,\n",
       "        0.00120215, 0.00065825, 0.00170572, 0.00071935, 0.00628973,\n",
       "        0.00328915, 0.00306363, 0.0008408 , 0.00074683, 0.00059238,\n",
       "        0.00158344, 0.00102569, 0.00190992, 0.00124255, 0.00078864,\n",
       "        0.00091113, 0.0014735 , 0.00100542, 0.00136292, 0.00073389,\n",
       "        0.00094867, 0.00080508, 0.00087445]),\n",
       " 'mean_score_time': array([0.00574031, 0.0063333 , 0.00588064, 0.00610228, 0.00637999,\n",
       "        0.0063529 , 0.00647287, 0.00634203, 0.00624304, 0.00618482,\n",
       "        0.00620599, 0.00634198, 0.00696034, 0.00702505, 0.00694828,\n",
       "        0.00727062, 0.00681424, 0.00671897, 0.00681729, 0.00697699,\n",
       "        0.00702863, 0.00704813, 0.00689387, 0.00690079, 0.00653019,\n",
       "        0.00654087, 0.00665145, 0.00680861, 0.00683184, 0.00742655,\n",
       "        0.00793438, 0.00738096, 0.00692587, 0.00685654, 0.00711312,\n",
       "        0.00757794, 0.00708675, 0.00753331, 0.00817409, 0.00753317,\n",
       "        0.00720415, 0.00747881, 0.00719404, 0.00773721, 0.00739131,\n",
       "        0.00769482, 0.00795679, 0.00776172]),\n",
       " 'std_score_time': array([5.22158082e-04, 2.13041130e-04, 1.54504761e-04, 3.26848530e-04,\n",
       "        3.48514097e-04, 3.75265663e-04, 2.55678706e-04, 1.81541156e-04,\n",
       "        2.81840587e-04, 2.17769395e-04, 2.98661479e-04, 3.11369750e-04,\n",
       "        2.37944771e-04, 4.01005291e-04, 3.93198527e-04, 2.07335760e-04,\n",
       "        2.95319192e-04, 3.51224235e-04, 8.35462247e-05, 1.02469032e-04,\n",
       "        3.21716748e-04, 3.32003877e-04, 2.54972145e-04, 7.99209519e-05,\n",
       "        2.84272326e-04, 6.69537104e-05, 5.08842224e-05, 2.16787321e-04,\n",
       "        1.08135419e-04, 8.64177672e-04, 4.58594809e-04, 3.95129925e-04,\n",
       "        2.20413374e-04, 8.02655330e-05, 3.38749111e-04, 7.42365081e-04,\n",
       "        8.72776141e-05, 6.35848092e-04, 3.95249788e-04, 1.63086855e-04,\n",
       "        2.54873569e-04, 4.60497881e-04, 1.31213682e-04, 4.93686102e-04,\n",
       "        1.08684631e-04, 1.90341938e-04, 6.42225581e-04, 9.23561075e-05]),\n",
       " 'param_max_depth': masked_array(data=[12, 12, 12, 12, 12, 12, 12, 12, 13, 13, 13, 13, 13, 13,\n",
       "                    13, 13, 14, 14, 14, 14, 14, 14, 14, 14, 15, 15, 15, 15,\n",
       "                    15, 15, 15, 15, 16, 16, 16, 16, 16, 16, 16, 16, 17, 17,\n",
       "                    17, 17, 17, 17, 17, 17],\n",
       "              mask=[False, False, False, False, False, False, False, False,\n",
       "                    False, False, False, False, False, False, False, False,\n",
       "                    False, False, False, False, False, False, False, False,\n",
       "                    False, False, False, False, False, False, False, False,\n",
       "                    False, False, False, False, False, False, False, False,\n",
       "                    False, False, False, False, False, False, False, False],\n",
       "        fill_value='?',\n",
       "             dtype=object),\n",
       " 'param_n_estimators': masked_array(data=[54, 55, 56, 57, 58, 59, 60, 62, 54, 55, 56, 57, 58, 59,\n",
       "                    60, 62, 54, 55, 56, 57, 58, 59, 60, 62, 54, 55, 56, 57,\n",
       "                    58, 59, 60, 62, 54, 55, 56, 57, 58, 59, 60, 62, 54, 55,\n",
       "                    56, 57, 58, 59, 60, 62],\n",
       "              mask=[False, False, False, False, False, False, False, False,\n",
       "                    False, False, False, False, False, False, False, False,\n",
       "                    False, False, False, False, False, False, False, False,\n",
       "                    False, False, False, False, False, False, False, False,\n",
       "                    False, False, False, False, False, False, False, False,\n",
       "                    False, False, False, False, False, False, False, False],\n",
       "        fill_value='?',\n",
       "             dtype=object),\n",
       " 'params': [{'max_depth': 12, 'n_estimators': 54},\n",
       "  {'max_depth': 12, 'n_estimators': 55},\n",
       "  {'max_depth': 12, 'n_estimators': 56},\n",
       "  {'max_depth': 12, 'n_estimators': 57},\n",
       "  {'max_depth': 12, 'n_estimators': 58},\n",
       "  {'max_depth': 12, 'n_estimators': 59},\n",
       "  {'max_depth': 12, 'n_estimators': 60},\n",
       "  {'max_depth': 12, 'n_estimators': 62},\n",
       "  {'max_depth': 13, 'n_estimators': 54},\n",
       "  {'max_depth': 13, 'n_estimators': 55},\n",
       "  {'max_depth': 13, 'n_estimators': 56},\n",
       "  {'max_depth': 13, 'n_estimators': 57},\n",
       "  {'max_depth': 13, 'n_estimators': 58},\n",
       "  {'max_depth': 13, 'n_estimators': 59},\n",
       "  {'max_depth': 13, 'n_estimators': 60},\n",
       "  {'max_depth': 13, 'n_estimators': 62},\n",
       "  {'max_depth': 14, 'n_estimators': 54},\n",
       "  {'max_depth': 14, 'n_estimators': 55},\n",
       "  {'max_depth': 14, 'n_estimators': 56},\n",
       "  {'max_depth': 14, 'n_estimators': 57},\n",
       "  {'max_depth': 14, 'n_estimators': 58},\n",
       "  {'max_depth': 14, 'n_estimators': 59},\n",
       "  {'max_depth': 14, 'n_estimators': 60},\n",
       "  {'max_depth': 14, 'n_estimators': 62},\n",
       "  {'max_depth': 15, 'n_estimators': 54},\n",
       "  {'max_depth': 15, 'n_estimators': 55},\n",
       "  {'max_depth': 15, 'n_estimators': 56},\n",
       "  {'max_depth': 15, 'n_estimators': 57},\n",
       "  {'max_depth': 15, 'n_estimators': 58},\n",
       "  {'max_depth': 15, 'n_estimators': 59},\n",
       "  {'max_depth': 15, 'n_estimators': 60},\n",
       "  {'max_depth': 15, 'n_estimators': 62},\n",
       "  {'max_depth': 16, 'n_estimators': 54},\n",
       "  {'max_depth': 16, 'n_estimators': 55},\n",
       "  {'max_depth': 16, 'n_estimators': 56},\n",
       "  {'max_depth': 16, 'n_estimators': 57},\n",
       "  {'max_depth': 16, 'n_estimators': 58},\n",
       "  {'max_depth': 16, 'n_estimators': 59},\n",
       "  {'max_depth': 16, 'n_estimators': 60},\n",
       "  {'max_depth': 16, 'n_estimators': 62},\n",
       "  {'max_depth': 17, 'n_estimators': 54},\n",
       "  {'max_depth': 17, 'n_estimators': 55},\n",
       "  {'max_depth': 17, 'n_estimators': 56},\n",
       "  {'max_depth': 17, 'n_estimators': 57},\n",
       "  {'max_depth': 17, 'n_estimators': 58},\n",
       "  {'max_depth': 17, 'n_estimators': 59},\n",
       "  {'max_depth': 17, 'n_estimators': 60},\n",
       "  {'max_depth': 17, 'n_estimators': 62}],\n",
       " 'split0_test_score': array([0.3319126 , 0.33400965, 0.3352166 , 0.32450826, 0.32020614,\n",
       "        0.32652294, 0.32727565, 0.32177432, 0.32839631, 0.3293927 ,\n",
       "        0.32655575, 0.316738  , 0.31311618, 0.30939542, 0.31159821,\n",
       "        0.3052448 , 0.32253746, 0.32244592, 0.32876123, 0.31697081,\n",
       "        0.31813509, 0.31926   , 0.31576703, 0.31479639, 0.29043411,\n",
       "        0.29076402, 0.28989688, 0.2810126 , 0.27732645, 0.27085051,\n",
       "        0.27607734, 0.27203168, 0.37668885, 0.37589857, 0.36828815,\n",
       "        0.35444054, 0.35174619, 0.35669716, 0.35480409, 0.34957795,\n",
       "        0.40067363, 0.39990582, 0.40763925, 0.39500335, 0.39633776,\n",
       "        0.39214089, 0.38399162, 0.37739751]),\n",
       " 'split1_test_score': array([0.67918624, 0.68137935, 0.67762604, 0.67716049, 0.67535177,\n",
       "        0.67490396, 0.67572015, 0.68908722, 0.70664639, 0.70904237,\n",
       "        0.71008016, 0.70858679, 0.70246414, 0.70045195, 0.69852282,\n",
       "        0.70467809, 0.68025621, 0.68615641, 0.68489106, 0.69047832,\n",
       "        0.68981416, 0.69161619, 0.69319873, 0.69694616, 0.70603257,\n",
       "        0.71067486, 0.70759617, 0.70931058, 0.70600689, 0.70606183,\n",
       "        0.70453067, 0.71275231, 0.71023269, 0.71276201, 0.71610239,\n",
       "        0.71423304, 0.7126317 , 0.70869207, 0.70918451, 0.71793371,\n",
       "        0.66636428, 0.66880589, 0.66934026, 0.67045594, 0.67382347,\n",
       "        0.67779058, 0.6777071 , 0.6852942 ]),\n",
       " 'split2_test_score': array([0.56203364, 0.56156312, 0.56154337, 0.56504178, 0.56540464,\n",
       "        0.5636782 , 0.56354018, 0.56193388, 0.57638706, 0.57386689,\n",
       "        0.57622985, 0.57835849, 0.57641686, 0.57239088, 0.57273413,\n",
       "        0.57258258, 0.56904162, 0.57026228, 0.568199  , 0.57104586,\n",
       "        0.5749151 , 0.57289871, 0.57235384, 0.57313703, 0.55947943,\n",
       "        0.55874562, 0.55953961, 0.56225469, 0.56264537, 0.55997523,\n",
       "        0.55956095, 0.56142654, 0.54840936, 0.54900839, 0.54832807,\n",
       "        0.5556871 , 0.55411007, 0.55114445, 0.54760664, 0.54811595,\n",
       "        0.57410366, 0.57294221, 0.57230548, 0.57746035, 0.58058341,\n",
       "        0.57856235, 0.57538725, 0.58387954]),\n",
       " 'split3_test_score': array([0.43751694, 0.43698805, 0.43123942, 0.43564896, 0.43155494,\n",
       "        0.42791224, 0.42972264, 0.42411443, 0.42191789, 0.42196604,\n",
       "        0.42200605, 0.42536725, 0.42282822, 0.42435182, 0.42052133,\n",
       "        0.41829648, 0.43101176, 0.43185192, 0.42756357, 0.43483934,\n",
       "        0.43127955, 0.42775809, 0.42778128, 0.42781382, 0.41739635,\n",
       "        0.41849972, 0.41609664, 0.41768743, 0.41944689, 0.42239051,\n",
       "        0.41812598, 0.41612304, 0.44484486, 0.44203687, 0.44221418,\n",
       "        0.44301628, 0.43974776, 0.43774929, 0.43810158, 0.43351858,\n",
       "        0.43571582, 0.43637295, 0.43776058, 0.43931718, 0.43867533,\n",
       "        0.43685536, 0.43919163, 0.43444672]),\n",
       " 'split4_test_score': array([0.56633353, 0.57174683, 0.57082717, 0.57227232, 0.5684147 ,\n",
       "        0.56799732, 0.57226016, 0.57743218, 0.56670233, 0.57932549,\n",
       "        0.58171835, 0.58723723, 0.58670273, 0.58973291, 0.59021959,\n",
       "        0.59467087, 0.60848571, 0.60988103, 0.60535589, 0.60609811,\n",
       "        0.60181175, 0.60162728, 0.60396975, 0.60855581, 0.52559916,\n",
       "        0.53237426, 0.52991602, 0.53169387, 0.53293904, 0.53433717,\n",
       "        0.53144119, 0.53969637, 0.55099995, 0.55616021, 0.55574846,\n",
       "        0.55802693, 0.55566513, 0.55660837, 0.55595452, 0.5641512 ,\n",
       "        0.52588836, 0.53209557, 0.53030154, 0.53155373, 0.53327788,\n",
       "        0.53506309, 0.53570277, 0.54182786]),\n",
       " 'mean_test_score': array([0.51537775, 0.5171172 , 0.51526998, 0.51490516, 0.51216564,\n",
       "        0.5121823 , 0.5136821 , 0.51484527, 0.51999273, 0.52269776,\n",
       "        0.52329643, 0.52323389, 0.52028107, 0.51923854, 0.51869277,\n",
       "        0.51906661, 0.52223467, 0.5240878 , 0.52292368, 0.52385609,\n",
       "        0.52316206, 0.52260284, 0.52258404, 0.52421867, 0.49977878,\n",
       "        0.50220054, 0.50059823, 0.50038026, 0.49966063, 0.49870988,\n",
       "        0.49793484, 0.50039146, 0.52622598, 0.52716249, 0.5261253 ,\n",
       "        0.52506859, 0.52276801, 0.52216553, 0.52111739, 0.52264413,\n",
       "        0.52054718, 0.52202076, 0.5234669 , 0.52275486, 0.52453634,\n",
       "        0.52407839, 0.52239115, 0.52456278]),\n",
       " 'std_test_score': array([0.11945696, 0.11992666, 0.11923779, 0.12221744, 0.12328572,\n",
       "        0.1215219 , 0.12164794, 0.128083  , 0.13157319, 0.13273255,\n",
       "        0.13423626, 0.13692068, 0.13652427, 0.1368912 , 0.13632761,\n",
       "        0.14066412, 0.12869996, 0.13034071, 0.12797553, 0.13228676,\n",
       "        0.13201235, 0.13244226, 0.13415805, 0.1360244 , 0.1395839 ,\n",
       "        0.14093658, 0.1405363 , 0.14384545, 0.14391406, 0.145464  ,\n",
       "        0.14368617, 0.14809073, 0.11311152, 0.11481747, 0.11784692,\n",
       "        0.12139084, 0.12188441, 0.11945568, 0.11988378, 0.12524436,\n",
       "        0.09564762, 0.09644167, 0.09432808, 0.09816892, 0.09932716,\n",
       "        0.10173581, 0.10315499, 0.10904228]),\n",
       " 'rank_test_score': array([34, 33, 35, 36, 40, 39, 38, 37, 29, 18, 12, 13, 28, 30, 32, 31, 23,\n",
       "         8, 15, 10, 14, 20, 21,  7, 45, 41, 42, 44, 46, 47, 48, 43,  2,  1,\n",
       "         3,  4, 16, 24, 26, 19, 27, 25, 11, 17,  6,  9, 22,  5],\n",
       "       dtype=int32)}"
      ]
     },
     "execution_count": 48,
     "metadata": {},
     "output_type": "execute_result"
    }
   ],
   "source": [
    "grid_rf.cv_results_"
   ]
  },
  {
   "cell_type": "code",
   "execution_count": 49,
   "metadata": {},
   "outputs": [],
   "source": [
    "# plot the effect of different number of trees and maximum tree-depth druing cross validation \n",
    "scores = grid_rf.cv_results_['mean_test_score']"
   ]
  },
  {
   "cell_type": "code",
   "execution_count": 50,
   "metadata": {},
   "outputs": [
    {
     "data": {
      "text/plain": [
       "array([0.51537775, 0.5171172 , 0.51526998, 0.51490516, 0.51216564,\n",
       "       0.5121823 , 0.5136821 , 0.51484527, 0.51999273, 0.52269776,\n",
       "       0.52329643, 0.52323389, 0.52028107, 0.51923854, 0.51869277,\n",
       "       0.51906661, 0.52223467, 0.5240878 , 0.52292368, 0.52385609,\n",
       "       0.52316206, 0.52260284, 0.52258404, 0.52421867, 0.49977878,\n",
       "       0.50220054, 0.50059823, 0.50038026, 0.49966063, 0.49870988,\n",
       "       0.49793484, 0.50039146, 0.52622598, 0.52716249, 0.5261253 ,\n",
       "       0.52506859, 0.52276801, 0.52216553, 0.52111739, 0.52264413,\n",
       "       0.52054718, 0.52202076, 0.5234669 , 0.52275486, 0.52453634,\n",
       "       0.52407839, 0.52239115, 0.52456278])"
      ]
     },
     "execution_count": 50,
     "metadata": {},
     "output_type": "execute_result"
    }
   ],
   "source": [
    "scores"
   ]
  },
  {
   "cell_type": "code",
   "execution_count": 51,
   "metadata": {},
   "outputs": [
    {
     "data": {
      "image/png": "[encoded data removed]",
      "text/plain": [
       "<Figure size 432x288 with 1 Axes>"
      ]
     },
     "metadata": {},
     "output_type": "display_data"
    }
   ],
   "source": [
    "n_est = [54, 55, 56, 57, 58, 59, 60, 62]\n",
    "m_depth=[12, 13, 14, 15, 16, 17]\n",
    "scores = np.array(scores).reshape(len(m_depth), len(n_est))\n",
    "fig = plt.figure()\n",
    "ax = plt.subplot(111)\n",
    "for ind, i in enumerate(m_depth):\n",
    "    plt.plot(n_est, scores[ind], '-o', label='n estimator.' + str(i),)\n",
    "    \n",
    "ax.legend(loc='center left', bbox_to_anchor=(1, 0.5))\n",
    "plt.xlabel('Mean score')\n",
    "plt.ylabel('Max depth')\n",
    "plt.grid(True)\n",
    "plt.show()\n",
    "# savefig('rf_1')"
   ]
  },
  {
   "cell_type": "code",
   "execution_count": 52,
   "metadata": {},
   "outputs": [
    {
     "data": {
      "text/plain": [
       "RandomForestRegressor(bootstrap=True, criterion='mse', max_depth=14,\n",
       "                      max_features='sqrt', max_leaf_nodes=None,\n",
       "                      min_impurity_decrease=0.0, min_impurity_split=None,\n",
       "                      min_samples_leaf=1, min_samples_split=2,\n",
       "                      min_weight_fraction_leaf=0.0, n_estimators=55,\n",
       "                      n_jobs=None, oob_score=False, random_state=2, verbose=0,\n",
       "                      warm_start=False)"
      ]
     },
     "execution_count": 52,
     "metadata": {},
     "output_type": "execute_result"
    }
   ],
   "source": [
    "# add both training and validation data together as the new training data\n",
    "rf = RandomForestRegressor(random_state=2, max_features = 'sqrt', max_depth= 14, n_estimators=55)\n",
    "rf.fit(model_train_x, model_train_y)"
   ]
  },
  {
   "cell_type": "markdown",
   "metadata": {},
   "source": [
    "# Part4: Model Evaluation"
   ]
  },
  {
   "cell_type": "raw",
   "metadata": {},
   "source": [
    "Test data is the reserved 20% of the whole dataset, and has never been seen by the above models."
   ]
  },
  {
   "cell_type": "raw",
   "metadata": {},
   "source": [
    "4.1 Lasso test with linear features (lasso_f)"
   ]
  },
  {
   "cell_type": "code",
   "execution_count": 54,
   "metadata": {},
   "outputs": [
    {
     "name": "stdout",
     "output_type": "stream",
     "text": [
      "lasso_f score:  0.1264449492385179\n",
      "Mean square error of lasso_f:  191414216.41243756\n",
      "Root mean squared error of lasso_f: 13835.252668904806\n"
     ]
    }
   ],
   "source": [
    "# Lasso_f test (with linear features)\n",
    "\n",
    "lasso_f_score = lasso_f.score(model_test_x, model_test_y)\n",
    "pred_y = lasso_f.predict(model_test_x)\n",
    "\n",
    "# The mean squared error and root mean square error\n",
    "MSE_lasso_f = mean_squared_error(model_test_y, pred_y)\n",
    "RMSE_lasso_f = sqrt(mean_squared_error(model_test_y, pred_y))\n",
    "\n",
    "print('lasso_f score: ', lasso_f_score)\n",
    "print('Mean square error of lasso_f: ', MSE_lasso_f)\n",
    "print('Root mean squared error of lasso_f:', RMSE_lasso_f)\n",
    "# print ('Coefficients of lasso_f: ', lasso_f.coef_)"
   ]
  },
  {
   "cell_type": "raw",
   "metadata": {},
   "source": [
    "4.2 Lasso test with polynomial features (lasso_fp)"
   ]
  },
  {
   "cell_type": "code",
   "execution_count": 55,
   "metadata": {},
   "outputs": [
    {
     "name": "stdout",
     "output_type": "stream",
     "text": [
      "lasso_fp score:  0.2937219491702878\n",
      "Mean square error of lasso_fp:  154760320.5442243\n",
      "Root mean squared error of lasso_fp: 12440.270115404419\n"
     ]
    }
   ],
   "source": [
    "# Lasso_fp test (with polynomial features)\n",
    "model_test_xp = poly.fit_transform(model_test_x)\n",
    "pred_y = lasso_fp.predict(model_test_xp)\n",
    "\n",
    "lasso_fp_score = lasso_fp.score(model_test_xp, model_test_y)\n",
    "MSE_lasso_fp = mean_squared_error(model_test_y, pred_y)\n",
    "RMSE_lasso_fp = sqrt(mean_squared_error(model_test_y, pred_y))\n",
    "\n",
    "print('lasso_fp score: ', lasso_fp_score)\n",
    "print('Mean square error of lasso_fp: ', MSE_lasso_fp)\n",
    "print('Root mean squared error of lasso_fp:', RMSE_lasso_fp)"
   ]
  },
  {
   "cell_type": "raw",
   "metadata": {},
   "source": [
    "4.3 Ridge test with linear features (ridge_f)"
   ]
  },
  {
   "cell_type": "code",
   "execution_count": 56,
   "metadata": {},
   "outputs": [
    {
     "name": "stdout",
     "output_type": "stream",
     "text": [
      "ridge_f score:  0.15211985509291115\n",
      "Mean square error of ridge_f:  185788306.53841445\n",
      "Root mean squared error of ridge_f: 13630.418428588846\n"
     ]
    }
   ],
   "source": [
    "# ridge_f test (with linear features)\n",
    "\n",
    "ridge_f_score = ridge_f.score(model_test_x, model_test_y)\n",
    "pred_y = ridge_f.predict(model_test_x)\n",
    "\n",
    "# The mean squared error and root mean square error\n",
    "MSE_ridge_f = mean_squared_error(model_test_y, pred_y)\n",
    "RMSE_ridge_f = sqrt(mean_squared_error(model_test_y, pred_y))\n",
    "\n",
    "print('ridge_f score: ', ridge_f_score)\n",
    "print('Mean square error of ridge_f: ', MSE_ridge_f)\n",
    "print('Root mean squared error of ridge_f:', RMSE_ridge_f)"
   ]
  },
  {
   "cell_type": "raw",
   "metadata": {},
   "source": [
    "4.4 Ridge test with polynomial features (ridge_fp)"
   ]
  },
  {
   "cell_type": "code",
   "execution_count": 58,
   "metadata": {},
   "outputs": [
    {
     "name": "stdout",
     "output_type": "stream",
     "text": [
      "ridge_fp score:  0.15211985509291115\n",
      "Mean square error of ridge_fp:  185788306.53841445\n",
      "Root mean squared error of ridge_fp: 13630.418428588846\n"
     ]
    }
   ],
   "source": [
    "# ridge_fp test (with polynomial features)\n",
    "model_test_xp = poly.fit_transform(model_test_x)\n",
    "\n",
    "ridge_fp_score = ridge_fp.score(model_test_xp, model_test_y)\n",
    "MSE_ridge_fp = mean_squared_error(model_test_y, pred_y)\n",
    "RMSE_ridge_fp = sqrt(mean_squared_error(model_test_y, pred_y))\n",
    "\n",
    "pred_y = ridge_fp.predict(model_test_xp)\n",
    "print('ridge_fp score: ', ridge_f_score)\n",
    "print('Mean square error of ridge_fp: ', MSE_ridge_fp)\n",
    "print('Root mean squared error of ridge_fp:', RMSE_ridge_fp)"
   ]
  },
  {
   "cell_type": "raw",
   "metadata": {},
   "source": [
    "4.5 Random forest test (rf)"
   ]
  },
  {
   "cell_type": "code",
   "execution_count": 59,
   "metadata": {},
   "outputs": [
    {
     "name": "stdout",
     "output_type": "stream",
     "text": [
      "rf score:  0.5233477892161215\n",
      "Mean square error of rf:  104444487.32672259\n",
      "Root mean squared error of rf: 10219.808575835586\n"
     ]
    }
   ],
   "source": [
    "rf_score = rf.score(model_test_x, model_test_y)\n",
    "\n",
    "pred_y = rf.predict(model_test_x)\n",
    "MSE_rf = mean_squared_error(model_test_y, pred_y)\n",
    "RMSE_rf = sqrt(mean_squared_error(model_test_y, pred_y))\n",
    "\n",
    "# The mean squared error and root mean square error\n",
    "print('rf score: ', rf_score)\n",
    "print('Mean square error of rf: ', MSE_rf)\n",
    "print('Root mean squared error of rf:', RMSE_rf)"
   ]
  },
  {
   "cell_type": "raw",
   "metadata": {},
   "source": [
    "4.6 Comparison of the 5 models\n",
    "Compared the max_score, mean squared error (MSE), and root mean squared error (RMSE) of 5 models. Random forest \n",
    "model rf returns the beset prediction accuracy."
   ]
  },
  {
   "cell_type": "code",
   "execution_count": 60,
   "metadata": {},
   "outputs": [
    {
     "name": "stderr",
     "output_type": "stream",
     "text": [
      "No handles with labels found to put in legend.\n"
     ]
    },
    {
     "data": {
      "image/png": "[encoded data removed]",
      "text/plain": [
       "<Figure size 432x288 with 1 Axes>"
      ]
     },
     "metadata": {},
     "output_type": "display_data"
    },
    {
     "name": "stderr",
     "output_type": "stream",
     "text": [
      "No handles with labels found to put in legend.\n"
     ]
    },
    {
     "data": {
      "image/png": "[encoded data removed]",
      "text/plain": [
       "<Figure size 432x288 with 1 Axes>"
      ]
     },
     "metadata": {},
     "output_type": "display_data"
    },
    {
     "name": "stderr",
     "output_type": "stream",
     "text": [
      "No handles with labels found to put in legend.\n"
     ]
    },
    {
     "data": {
      "image/png": "[encoded data removed]",
      "text/plain": [
       "<Figure size 432x288 with 1 Axes>"
      ]
     },
     "metadata": {},
     "output_type": "display_data"
    }
   ],
   "source": [
    "lst_score = [lasso_f_score, lasso_fp_score, ridge_f_score, ridge_fp_score, rf_score]\n",
    "MSE_lst =  [MSE_lasso_f, MSE_lasso_fp, MSE_ridge_f, MSE_ridge_fp, MSE_rf]\n",
    "RMSE_lst =  [RMSE_lasso_f, RMSE_lasso_fp, RMSE_ridge_f, RMSE_ridge_fp, RMSE_rf]\n",
    "model_lst = ['Lasso_linear','Lasso poly', 'Ridge linear', 'Ridge poly', 'Random forest']\n",
    "\n",
    "plt.figure(1)\n",
    "plt.plot(model_lst, lst_score, 'ro')\n",
    "plt.legend(loc = 9)\n",
    "plt.legend(['r-squre / score'])\n",
    "plt.xlabel('model names',fontsize =16)\n",
    "plt.ylabel('score / r square', fontsize =16)\n",
    "plt.grid(True)\n",
    "plt.show()\n",
    "\n",
    "plt.figure(2)\n",
    "plt.plot(model_lst, MSE_lst, 'g^')\n",
    "plt.legend(loc = 9)\n",
    "plt.legend(['mean square error (MSE)'])\n",
    "plt.xlabel('model names', fontsize =16)\n",
    "plt.ylabel('mean square error', fontsize =16)\n",
    "plt.grid(True)\n",
    "plt.show()\n",
    "\n",
    "plt.figure(3)\n",
    "plt.plot(model_lst, RMSE_lst, 'bs')\n",
    "plt.legend(loc = 9)\n",
    "plt.legend(['root mean square error (RMSE)'])\n",
    "plt.xlabel('model names', fontsize =16)\n",
    "plt.ylabel('root mean square error', fontsize =16)\n",
    "plt.grid(True)\n",
    "plt.show()"
   ]
  },
  {
   "cell_type": "markdown",
   "metadata": {},
   "source": [
    "# Part5: Feature Importance"
   ]
  },
  {
   "cell_type": "raw",
   "metadata": {},
   "source": [
    "Random forest(RF) shows the best prediction accuracy. Therefore, the feature importance will be extracted from\n",
    "the RF model."
   ]
  },
  {
   "cell_type": "code",
   "execution_count": 61,
   "metadata": {},
   "outputs": [
    {
     "name": "stdout",
     "output_type": "stream",
     "text": [
      "Feature importance ranking:\n",
      "1. feature 1 weighted_categorical_position (0.147849)\n",
      "2. feature 0 weighted_horizontal_poition (0.129749)\n",
      "3. feature 2 imdb_votes (0.124978)\n",
      "4. feature 3 budget (0.063139)\n",
      "5. feature 4 boxoffice (0.053798)\n",
      "6. feature 8 imdb_rating (0.049440)\n",
      "7. feature 7 duration_in_mins (0.047520)\n",
      "8. feature 11 metacritic_score (0.035516)\n",
      "9. feature 6 star_category (0.035494)\n",
      "10. feature 9 lionsgate (0.034595)\n",
      "11. feature 5 mgm (0.029969)\n",
      "12. feature 53 other (0.028168)\n",
      "13. feature 10 paramount (0.018973)\n",
      "14. feature 18 G (0.016873)\n",
      "15. feature 28 NC-17 (0.013273)\n",
      "16. feature 42 NotRated (0.011310)\n",
      "17. feature 22 PG (0.010559)\n",
      "18. feature 38 PG-13 (0.010527)\n",
      "19. feature 50 R (0.008787)\n",
      "20. feature 23 BAFTA (0.008194)\n",
      "21. feature 30 Golden Globe (0.008081)\n",
      "22. feature 27 Oscar (0.007545)\n",
      "23. feature 43 no award (0.006743)\n",
      "24. feature 15 other award (0.006377)\n",
      "25. feature 29 Action (0.006183)\n",
      "26. feature 52 Adventure (0.006153)\n",
      "27. feature 24 Animation (0.006074)\n",
      "28. feature 49 Comedy (0.005998)\n",
      "29. feature 17 Crime (0.005000)\n",
      "30. feature 54 Documentary (0.004690)\n",
      "31. feature 33 Drama (0.004480)\n",
      "32. feature 48 Fantasy (0.004095)\n",
      "33. feature 44 Foreign/International (0.004067)\n",
      "34. feature 39 Horror (0.003948)\n",
      "35. feature 51 Independent (0.003669)\n",
      "36. feature 35 Kids & Family (0.003480)\n",
      "37. feature 47 Music (0.003366)\n",
      "38. feature 12 Musicals (0.003028)\n",
      "39. feature 16 Mystery (0.002991)\n",
      "40. feature 31 Romance (0.002783)\n",
      "41. feature 40 Sci-Fi (0.002602)\n",
      "42. feature 41 Sport (0.002599)\n",
      "43. feature 20 Thriller (0.002592)\n",
      "44. feature 46 War (0.002522)\n",
      "45. feature 25 Western (0.002515)\n",
      "46. feature 36 Misc_gen (0.002381)\n",
      "47. feature 26 1916-1974 (0.002379)\n",
      "48. feature 55 1974-1991 (0.001586)\n",
      "49. feature 21 1991-2001 (0.001511)\n",
      "50. feature 34 2001-2006 (0.000560)\n",
      "51. feature 14 2006-2008 (0.000457)\n",
      "52. feature 37 2008-2010 (0.000369)\n",
      "53. feature 13 2010-2012 (0.000213)\n",
      "54. feature 32 2012-2013 (0.000117)\n",
      "55. feature 19 2013-2014 (0.000084)\n",
      "56. feature 45 2014-2017 (0.000054)\n"
     ]
    },
    {
     "data": {
      "image/png": "[encoded data removed]",
      "text/plain": [
       "<Figure size 432x288 with 1 Axes>"
      ]
     },
     "metadata": {},
     "output_type": "display_data"
    }
   ],
   "source": [
    "importances = rf.feature_importances_\n",
    "std = np.std([tree.feature_importances_ for tree in rf.estimators_], axis=0)\n",
    "indices = np.argsort(importances)[::-1]\n",
    "feature_name = model_test_x.columns.get_values()\n",
    "\n",
    "# Print the feature ranking\n",
    "print(\"Feature importance ranking:\")\n",
    "\n",
    "for f in range(model_test_x.shape[1]):\n",
    "    print(\"%d. feature %d %s (%f)\" % (f + 1, indices[f],  feature_name[f], importances[indices[f]]))\n",
    "    \n",
    "plt.figure(1)\n",
    "plt.bar(feature_name[:11], importances[indices[:11]])\n",
    "plt.xticks(rotation=90)\n",
    "plt.show()"
   ]
  },
  {
   "cell_type": "code",
   "execution_count": null,
   "metadata": {},
   "outputs": [],
   "source": []
  }
 ],
 "metadata": {
  "kernelspec": {
   "display_name": "Python 3",
   "language": "python",
   "name": "python3"
  },
  "language_info": {
   "codemirror_mode": {
    "name": "ipython",
    "version": 3
   },
   "file_extension": ".py",
   "mimetype": "text/x-python",
   "name": "python",
   "nbconvert_exporter": "python",
   "pygments_lexer": "ipython3",
   "version": "3.7.1"
  }
 },
 "nbformat": 4,
 "nbformat_minor": 2
}
